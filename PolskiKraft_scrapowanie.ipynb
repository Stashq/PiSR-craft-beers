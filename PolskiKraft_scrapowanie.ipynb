{
  "nbformat": 4,
  "nbformat_minor": 0,
  "metadata": {
    "colab": {
      "name": "PolskiKraft - scrapowanie.ipynb",
      "provenance": [],
      "collapsed_sections": []
    },
    "kernelspec": {
      "name": "python3",
      "display_name": "Python 3"
    },
    "language_info": {
      "name": "python"
    },
    "widgets": {
      "application/vnd.jupyter.widget-state+json": {
        "aff3f2b7a8bf4ca9ae7d65c0f560c1a4": {
          "model_module": "@jupyter-widgets/controls",
          "model_name": "HBoxModel",
          "state": {
            "_view_name": "HBoxView",
            "_dom_classes": [],
            "_model_name": "HBoxModel",
            "_view_module": "@jupyter-widgets/controls",
            "_model_module_version": "1.5.0",
            "_view_count": null,
            "_view_module_version": "1.5.0",
            "box_style": "",
            "layout": "IPY_MODEL_a5a47996d74c42abba614f3f8fff911e",
            "_model_module": "@jupyter-widgets/controls",
            "children": [
              "IPY_MODEL_92b7de287d214c4db88ccf6cb4dd69fc",
              "IPY_MODEL_ae6a12faad7b493a85258c0c2749404d"
            ]
          }
        },
        "a5a47996d74c42abba614f3f8fff911e": {
          "model_module": "@jupyter-widgets/base",
          "model_name": "LayoutModel",
          "state": {
            "_view_name": "LayoutView",
            "grid_template_rows": null,
            "right": null,
            "justify_content": null,
            "_view_module": "@jupyter-widgets/base",
            "overflow": null,
            "_model_module_version": "1.2.0",
            "_view_count": null,
            "flex_flow": null,
            "width": null,
            "min_width": null,
            "border": null,
            "align_items": null,
            "bottom": null,
            "_model_module": "@jupyter-widgets/base",
            "top": null,
            "grid_column": null,
            "overflow_y": null,
            "overflow_x": null,
            "grid_auto_flow": null,
            "grid_area": null,
            "grid_template_columns": null,
            "flex": null,
            "_model_name": "LayoutModel",
            "justify_items": null,
            "grid_row": null,
            "max_height": null,
            "align_content": null,
            "visibility": null,
            "align_self": null,
            "height": null,
            "min_height": null,
            "padding": null,
            "grid_auto_rows": null,
            "grid_gap": null,
            "max_width": null,
            "order": null,
            "_view_module_version": "1.2.0",
            "grid_template_areas": null,
            "object_position": null,
            "object_fit": null,
            "grid_auto_columns": null,
            "margin": null,
            "display": null,
            "left": null
          }
        },
        "92b7de287d214c4db88ccf6cb4dd69fc": {
          "model_module": "@jupyter-widgets/controls",
          "model_name": "FloatProgressModel",
          "state": {
            "_view_name": "ProgressView",
            "style": "IPY_MODEL_f8d3a9f08406440486156237154713c6",
            "_dom_classes": [],
            "description": "100%",
            "_model_name": "FloatProgressModel",
            "bar_style": "success",
            "max": 2,
            "_view_module": "@jupyter-widgets/controls",
            "_model_module_version": "1.5.0",
            "value": 2,
            "_view_count": null,
            "_view_module_version": "1.5.0",
            "orientation": "horizontal",
            "min": 0,
            "description_tooltip": null,
            "_model_module": "@jupyter-widgets/controls",
            "layout": "IPY_MODEL_bae05c4204f440b7a43c30407102523f"
          }
        },
        "ae6a12faad7b493a85258c0c2749404d": {
          "model_module": "@jupyter-widgets/controls",
          "model_name": "HTMLModel",
          "state": {
            "_view_name": "HTMLView",
            "style": "IPY_MODEL_437a9477955a4ec0a0134dfb704465ae",
            "_dom_classes": [],
            "description": "",
            "_model_name": "HTMLModel",
            "placeholder": "​",
            "_view_module": "@jupyter-widgets/controls",
            "_model_module_version": "1.5.0",
            "value": " 2/2 [00:58&lt;00:00, 29.20s/it]",
            "_view_count": null,
            "_view_module_version": "1.5.0",
            "description_tooltip": null,
            "_model_module": "@jupyter-widgets/controls",
            "layout": "IPY_MODEL_26cf15cc0b5144beaed6736f2813e01d"
          }
        },
        "f8d3a9f08406440486156237154713c6": {
          "model_module": "@jupyter-widgets/controls",
          "model_name": "ProgressStyleModel",
          "state": {
            "_view_name": "StyleView",
            "_model_name": "ProgressStyleModel",
            "description_width": "initial",
            "_view_module": "@jupyter-widgets/base",
            "_model_module_version": "1.5.0",
            "_view_count": null,
            "_view_module_version": "1.2.0",
            "bar_color": null,
            "_model_module": "@jupyter-widgets/controls"
          }
        },
        "bae05c4204f440b7a43c30407102523f": {
          "model_module": "@jupyter-widgets/base",
          "model_name": "LayoutModel",
          "state": {
            "_view_name": "LayoutView",
            "grid_template_rows": null,
            "right": null,
            "justify_content": null,
            "_view_module": "@jupyter-widgets/base",
            "overflow": null,
            "_model_module_version": "1.2.0",
            "_view_count": null,
            "flex_flow": null,
            "width": null,
            "min_width": null,
            "border": null,
            "align_items": null,
            "bottom": null,
            "_model_module": "@jupyter-widgets/base",
            "top": null,
            "grid_column": null,
            "overflow_y": null,
            "overflow_x": null,
            "grid_auto_flow": null,
            "grid_area": null,
            "grid_template_columns": null,
            "flex": null,
            "_model_name": "LayoutModel",
            "justify_items": null,
            "grid_row": null,
            "max_height": null,
            "align_content": null,
            "visibility": null,
            "align_self": null,
            "height": null,
            "min_height": null,
            "padding": null,
            "grid_auto_rows": null,
            "grid_gap": null,
            "max_width": null,
            "order": null,
            "_view_module_version": "1.2.0",
            "grid_template_areas": null,
            "object_position": null,
            "object_fit": null,
            "grid_auto_columns": null,
            "margin": null,
            "display": null,
            "left": null
          }
        },
        "437a9477955a4ec0a0134dfb704465ae": {
          "model_module": "@jupyter-widgets/controls",
          "model_name": "DescriptionStyleModel",
          "state": {
            "_view_name": "StyleView",
            "_model_name": "DescriptionStyleModel",
            "description_width": "",
            "_view_module": "@jupyter-widgets/base",
            "_model_module_version": "1.5.0",
            "_view_count": null,
            "_view_module_version": "1.2.0",
            "_model_module": "@jupyter-widgets/controls"
          }
        },
        "26cf15cc0b5144beaed6736f2813e01d": {
          "model_module": "@jupyter-widgets/base",
          "model_name": "LayoutModel",
          "state": {
            "_view_name": "LayoutView",
            "grid_template_rows": null,
            "right": null,
            "justify_content": null,
            "_view_module": "@jupyter-widgets/base",
            "overflow": null,
            "_model_module_version": "1.2.0",
            "_view_count": null,
            "flex_flow": null,
            "width": null,
            "min_width": null,
            "border": null,
            "align_items": null,
            "bottom": null,
            "_model_module": "@jupyter-widgets/base",
            "top": null,
            "grid_column": null,
            "overflow_y": null,
            "overflow_x": null,
            "grid_auto_flow": null,
            "grid_area": null,
            "grid_template_columns": null,
            "flex": null,
            "_model_name": "LayoutModel",
            "justify_items": null,
            "grid_row": null,
            "max_height": null,
            "align_content": null,
            "visibility": null,
            "align_self": null,
            "height": null,
            "min_height": null,
            "padding": null,
            "grid_auto_rows": null,
            "grid_gap": null,
            "max_width": null,
            "order": null,
            "_view_module_version": "1.2.0",
            "grid_template_areas": null,
            "object_position": null,
            "object_fit": null,
            "grid_auto_columns": null,
            "margin": null,
            "display": null,
            "left": null
          }
        },
        "7696b040f4b145468909baf0ab5dbb42": {
          "model_module": "@jupyter-widgets/controls",
          "model_name": "HBoxModel",
          "state": {
            "_view_name": "HBoxView",
            "_dom_classes": [],
            "_model_name": "HBoxModel",
            "_view_module": "@jupyter-widgets/controls",
            "_model_module_version": "1.5.0",
            "_view_count": null,
            "_view_module_version": "1.5.0",
            "box_style": "",
            "layout": "IPY_MODEL_79a817d0ac514aa18ca53508faf42304",
            "_model_module": "@jupyter-widgets/controls",
            "children": [
              "IPY_MODEL_d7178655f60840ee98ad73c2149298f5",
              "IPY_MODEL_e5ef35335c8241f98298d98244332143"
            ]
          }
        },
        "79a817d0ac514aa18ca53508faf42304": {
          "model_module": "@jupyter-widgets/base",
          "model_name": "LayoutModel",
          "state": {
            "_view_name": "LayoutView",
            "grid_template_rows": null,
            "right": null,
            "justify_content": null,
            "_view_module": "@jupyter-widgets/base",
            "overflow": null,
            "_model_module_version": "1.2.0",
            "_view_count": null,
            "flex_flow": null,
            "width": null,
            "min_width": null,
            "border": null,
            "align_items": null,
            "bottom": null,
            "_model_module": "@jupyter-widgets/base",
            "top": null,
            "grid_column": null,
            "overflow_y": null,
            "overflow_x": null,
            "grid_auto_flow": null,
            "grid_area": null,
            "grid_template_columns": null,
            "flex": null,
            "_model_name": "LayoutModel",
            "justify_items": null,
            "grid_row": null,
            "max_height": null,
            "align_content": null,
            "visibility": null,
            "align_self": null,
            "height": null,
            "min_height": null,
            "padding": null,
            "grid_auto_rows": null,
            "grid_gap": null,
            "max_width": null,
            "order": null,
            "_view_module_version": "1.2.0",
            "grid_template_areas": null,
            "object_position": null,
            "object_fit": null,
            "grid_auto_columns": null,
            "margin": null,
            "display": null,
            "left": null
          }
        },
        "d7178655f60840ee98ad73c2149298f5": {
          "model_module": "@jupyter-widgets/controls",
          "model_name": "FloatProgressModel",
          "state": {
            "_view_name": "ProgressView",
            "style": "IPY_MODEL_ea93d173d08a416e8970302a680eda00",
            "_dom_classes": [],
            "description": " 34%",
            "_model_name": "FloatProgressModel",
            "bar_style": "",
            "max": 9740,
            "_view_module": "@jupyter-widgets/controls",
            "_model_module_version": "1.5.0",
            "value": 3311,
            "_view_count": null,
            "_view_module_version": "1.5.0",
            "orientation": "horizontal",
            "min": 0,
            "description_tooltip": null,
            "_model_module": "@jupyter-widgets/controls",
            "layout": "IPY_MODEL_62824548e6fb4f0a90a8c62b725a849e"
          }
        },
        "e5ef35335c8241f98298d98244332143": {
          "model_module": "@jupyter-widgets/controls",
          "model_name": "HTMLModel",
          "state": {
            "_view_name": "HTMLView",
            "style": "IPY_MODEL_c825fd66701b42c08c4af7a3a6d3852c",
            "_dom_classes": [],
            "description": "",
            "_model_name": "HTMLModel",
            "placeholder": "​",
            "_view_module": "@jupyter-widgets/controls",
            "_model_module_version": "1.5.0",
            "value": " 3311/9740 [26:05&lt;56:47,  1.89it/s, tasks=queued]",
            "_view_count": null,
            "_view_module_version": "1.5.0",
            "description_tooltip": null,
            "_model_module": "@jupyter-widgets/controls",
            "layout": "IPY_MODEL_3bdf8ec7a3fe4cc68d64dee17df63a6c"
          }
        },
        "ea93d173d08a416e8970302a680eda00": {
          "model_module": "@jupyter-widgets/controls",
          "model_name": "ProgressStyleModel",
          "state": {
            "_view_name": "StyleView",
            "_model_name": "ProgressStyleModel",
            "description_width": "initial",
            "_view_module": "@jupyter-widgets/base",
            "_model_module_version": "1.5.0",
            "_view_count": null,
            "_view_module_version": "1.2.0",
            "bar_color": null,
            "_model_module": "@jupyter-widgets/controls"
          }
        },
        "62824548e6fb4f0a90a8c62b725a849e": {
          "model_module": "@jupyter-widgets/base",
          "model_name": "LayoutModel",
          "state": {
            "_view_name": "LayoutView",
            "grid_template_rows": null,
            "right": null,
            "justify_content": null,
            "_view_module": "@jupyter-widgets/base",
            "overflow": null,
            "_model_module_version": "1.2.0",
            "_view_count": null,
            "flex_flow": null,
            "width": null,
            "min_width": null,
            "border": null,
            "align_items": null,
            "bottom": null,
            "_model_module": "@jupyter-widgets/base",
            "top": null,
            "grid_column": null,
            "overflow_y": null,
            "overflow_x": null,
            "grid_auto_flow": null,
            "grid_area": null,
            "grid_template_columns": null,
            "flex": null,
            "_model_name": "LayoutModel",
            "justify_items": null,
            "grid_row": null,
            "max_height": null,
            "align_content": null,
            "visibility": null,
            "align_self": null,
            "height": null,
            "min_height": null,
            "padding": null,
            "grid_auto_rows": null,
            "grid_gap": null,
            "max_width": null,
            "order": null,
            "_view_module_version": "1.2.0",
            "grid_template_areas": null,
            "object_position": null,
            "object_fit": null,
            "grid_auto_columns": null,
            "margin": null,
            "display": null,
            "left": null
          }
        },
        "c825fd66701b42c08c4af7a3a6d3852c": {
          "model_module": "@jupyter-widgets/controls",
          "model_name": "DescriptionStyleModel",
          "state": {
            "_view_name": "StyleView",
            "_model_name": "DescriptionStyleModel",
            "description_width": "",
            "_view_module": "@jupyter-widgets/base",
            "_model_module_version": "1.5.0",
            "_view_count": null,
            "_view_module_version": "1.2.0",
            "_model_module": "@jupyter-widgets/controls"
          }
        },
        "3bdf8ec7a3fe4cc68d64dee17df63a6c": {
          "model_module": "@jupyter-widgets/base",
          "model_name": "LayoutModel",
          "state": {
            "_view_name": "LayoutView",
            "grid_template_rows": null,
            "right": null,
            "justify_content": null,
            "_view_module": "@jupyter-widgets/base",
            "overflow": null,
            "_model_module_version": "1.2.0",
            "_view_count": null,
            "flex_flow": null,
            "width": null,
            "min_width": null,
            "border": null,
            "align_items": null,
            "bottom": null,
            "_model_module": "@jupyter-widgets/base",
            "top": null,
            "grid_column": null,
            "overflow_y": null,
            "overflow_x": null,
            "grid_auto_flow": null,
            "grid_area": null,
            "grid_template_columns": null,
            "flex": null,
            "_model_name": "LayoutModel",
            "justify_items": null,
            "grid_row": null,
            "max_height": null,
            "align_content": null,
            "visibility": null,
            "align_self": null,
            "height": null,
            "min_height": null,
            "padding": null,
            "grid_auto_rows": null,
            "grid_gap": null,
            "max_width": null,
            "order": null,
            "_view_module_version": "1.2.0",
            "grid_template_areas": null,
            "object_position": null,
            "object_fit": null,
            "grid_auto_columns": null,
            "margin": null,
            "display": null,
            "left": null
          }
        }
      }
    }
  },
  "cells": [
    {
      "cell_type": "code",
      "metadata": {
        "id": "gQMXkjN39zPI"
      },
      "source": [
        "# ostatnie piwo: https://www.polskikraft.pl/piwo/9740\n",
        "# ostatni browar: https://www.polskikraft.pl/browar/411\n",
        "# ostatni user: https://www.polskikraft.pl/profil/28348"
      ],
      "execution_count": null,
      "outputs": []
    },
    {
      "cell_type": "code",
      "metadata": {
        "id": "FkMvbvZz_P4T"
      },
      "source": [
        "import os\n",
        "dumpdir = '/content/drive/MyDrive/datasets/PolskiKraft'"
      ],
      "execution_count": 2,
      "outputs": []
    },
    {
      "cell_type": "code",
      "metadata": {
        "id": "BV01Ef1CLunp"
      },
      "source": [
        "import pandas as pd\n",
        "from tqdm.auto import tqdm"
      ],
      "execution_count": 3,
      "outputs": []
    },
    {
      "cell_type": "markdown",
      "metadata": {
        "id": "XWJSMNXut7s2"
      },
      "source": [
        "# scraping"
      ]
    },
    {
      "cell_type": "code",
      "metadata": {
        "id": "wlp4JW5Q_pJn"
      },
      "source": [
        "!mkdir browary\n",
        "!mkdir piwa"
      ],
      "execution_count": 272,
      "outputs": []
    },
    {
      "cell_type": "markdown",
      "metadata": {
        "id": "XbNvxRRGuBiL"
      },
      "source": [
        "## breweries"
      ]
    },
    {
      "cell_type": "code",
      "metadata": {
        "id": "GdamaxfuiZ9K"
      },
      "source": [
        "for i in tqdm(range(1, 413)):\n",
        "    ! wget --quiet https://www.polskikraft.pl/browar/{i} -O browary/{i}.html"
      ],
      "execution_count": null,
      "outputs": []
    },
    {
      "cell_type": "code",
      "metadata": {
        "colab": {
          "base_uri": "https://localhost:8080/"
        },
        "id": "mvglfgjMjjog",
        "outputId": "27d7324c-3500-45ae-dd90-9cf604d047f2"
      },
      "source": [
        "!zip -q -r browary.zip browary\n",
        "!cp browary.zip {dumpdir}\n",
        "!ls -lh {dumpdir}"
      ],
      "execution_count": 285,
      "outputs": [
        {
          "output_type": "stream",
          "text": [
            "total 2.6M\n",
            "-rw------- 1 root root 2.6M Apr 10 02:18 browary.zip\n"
          ],
          "name": "stdout"
        }
      ]
    },
    {
      "cell_type": "markdown",
      "metadata": {
        "id": "7ZrP_j4QuF4s"
      },
      "source": [
        "## beers"
      ]
    },
    {
      "cell_type": "code",
      "metadata": {
        "colab": {
          "base_uri": "https://localhost:8080/",
          "height": 66,
          "referenced_widgets": [
            "aff3f2b7a8bf4ca9ae7d65c0f560c1a4",
            "a5a47996d74c42abba614f3f8fff911e",
            "92b7de287d214c4db88ccf6cb4dd69fc",
            "ae6a12faad7b493a85258c0c2749404d",
            "f8d3a9f08406440486156237154713c6",
            "bae05c4204f440b7a43c30407102523f",
            "437a9477955a4ec0a0134dfb704465ae",
            "26cf15cc0b5144beaed6736f2813e01d"
          ]
        },
        "id": "rxmv57jOjB9R",
        "outputId": "270c62cd-9545-48a3-9944-2273a5b1cd83"
      },
      "source": [
        "# for i in tqdm(range(1, 9740)):\n",
        "#     ! wget --quiet https://www.polskikraft.pl/piwo/{i} -O piwa/{i}.html\n",
        "\n",
        "# this would tahe ages (8-9h), lets go somewhat parallel"
      ],
      "execution_count": 23,
      "outputs": [
        {
          "output_type": "display_data",
          "data": {
            "application/vnd.jupyter.widget-view+json": {
              "model_id": "aff3f2b7a8bf4ca9ae7d65c0f560c1a4",
              "version_minor": 0,
              "version_major": 2
            },
            "text/plain": [
              "HBox(children=(FloatProgress(value=0.0, max=2.0), HTML(value='')))"
            ]
          },
          "metadata": {
            "tags": []
          }
        },
        {
          "output_type": "stream",
          "text": [
            "\n"
          ],
          "name": "stdout"
        }
      ]
    },
    {
      "cell_type": "code",
      "metadata": {
        "colab": {
          "base_uri": "https://localhost:8080/",
          "height": 49,
          "referenced_widgets": [
            "7696b040f4b145468909baf0ab5dbb42",
            "79a817d0ac514aa18ca53508faf42304",
            "d7178655f60840ee98ad73c2149298f5",
            "e5ef35335c8241f98298d98244332143",
            "ea93d173d08a416e8970302a680eda00",
            "62824548e6fb4f0a90a8c62b725a849e",
            "c825fd66701b42c08c4af7a3a6d3852c",
            "3bdf8ec7a3fe4cc68d64dee17df63a6c"
          ]
        },
        "id": "Qq6dnc2Vmwj3",
        "outputId": "45790835-954c-4a2d-9cf2-c29944403259"
      },
      "source": [
        "import subprocess\n",
        "MAX = 9740\n",
        "\n",
        "i = 511\n",
        "pbar = tqdm(total=MAX)\n",
        "pbar.update(i)\n",
        "while True:\n",
        "    N = 50\n",
        "    ls_output = [subprocess.Popen([\n",
        "        \"wget\", \"--quiet\",\n",
        "        f\"https://www.polskikraft.pl/piwo/{j}\",\n",
        "        \"-O\", f\"piwa/{j}.html\"\n",
        "    ]) for j in range(i, i+N)]\n",
        "    pbar.set_postfix({'tasks': 'queued'})\n",
        "    [x.communicate() for x in ls_output] # async wait\n",
        "    pbar.set_postfix({'tasks': 'received'})\n",
        "    i += N\n",
        "    pbar.update(N)\n",
        "    if i > MAX:\n",
        "        break\n",
        "pbar.close()\n",
        "# now it will take about 1.5h, seems fine.\n",
        "# This should finish by 6:30, 10th of april.\n",
        "# Lets hope no one uses their app so early on Saturdays."
      ],
      "execution_count": null,
      "outputs": [
        {
          "output_type": "display_data",
          "data": {
            "application/vnd.jupyter.widget-view+json": {
              "model_id": "7696b040f4b145468909baf0ab5dbb42",
              "version_minor": 0,
              "version_major": 2
            },
            "text/plain": [
              "HBox(children=(FloatProgress(value=0.0, max=9740.0), HTML(value='')))"
            ]
          },
          "metadata": {
            "tags": []
          }
        }
      ]
    },
    {
      "cell_type": "code",
      "metadata": {
        "colab": {
          "base_uri": "https://localhost:8080/"
        },
        "id": "xtc5rpy3oLNe",
        "outputId": "94445a70-2346-4b1c-f9c9-4851c8ce5c0f"
      },
      "source": [
        "!ls -lth piwa | wc -l"
      ],
      "execution_count": 24,
      "outputs": [
        {
          "output_type": "stream",
          "text": [
            "510\n"
          ],
          "name": "stdout"
        }
      ]
    },
    {
      "cell_type": "code",
      "metadata": {
        "id": "7ndmg2HAk3ZT"
      },
      "source": [
        "!zip -q -r piwa.zip piwa\n",
        "!cp piwa.zip {dumpdir}\n",
        "!ls -lh {dumpdir}"
      ],
      "execution_count": null,
      "outputs": []
    },
    {
      "cell_type": "code",
      "metadata": {
        "id": "pSjSCT3Csdzt"
      },
      "source": [
        "# for i in tqdm(range(1, 9740+1)):\n",
        "#     if not os.path.exists(f'piwa/{i}.html'):\n",
        "#         !wget --quiet https://www.polskikraft.pl/piwo/{i} -O piwa/{i}.html\n",
        "\n",
        "# for i in tqdm(range(9740+1 9900)):\n",
        "#     if os.path.exists(f'piwa/{i}.html'):\n",
        "#         !rm piwa/{i}.html"
      ],
      "execution_count": null,
      "outputs": []
    },
    {
      "cell_type": "markdown",
      "metadata": {
        "id": "x4wWg-oDuKIS"
      },
      "source": [
        "# Extracting the data"
      ]
    },
    {
      "cell_type": "code",
      "metadata": {
        "id": "ORX8qF0f_pOr"
      },
      "source": [
        "# import requests\n",
        "# URL = 'https://www.monster.com/jobs/search/?q=Software-Developer&where=Australia'\n",
        "# page = requests.get(URL)\n",
        "\n",
        "from bs4 import BeautifulSoup\n",
        "\n",
        "with open('browary/411.html', 'r') as f:\n",
        "    html_content = f.read()"
      ],
      "execution_count": null,
      "outputs": []
    },
    {
      "cell_type": "code",
      "metadata": {
        "id": "E0xCJQPiPXBH"
      },
      "source": [
        "soup = BeautifulSoup(html_content, 'html.parser')"
      ],
      "execution_count": 121,
      "outputs": []
    },
    {
      "cell_type": "markdown",
      "metadata": {
        "id": "uawT-yKfNO3_"
      },
      "source": [
        "# Brewery"
      ]
    },
    {
      "cell_type": "code",
      "metadata": {
        "id": "hmY2vjMdFljM"
      },
      "source": [
        "def extract_brewery_beers_from_brewery_html(html_content):\n",
        "    #in: string containing html file\n",
        "    #out: list of dicts of extracted properties:\n",
        "    #     [{...}]\n",
        "    soup = BeautifulSoup(html_content, 'html.parser')\n",
        "    beer_entries = soup.find_all(\"div\", {\"class\": \"pk-search-entry-link\"})\n",
        "    results = []\n",
        "    for html_entry in beer_entries:\n",
        "\n",
        "        tmp = html_entry.find_all(\"div\", {\"class\":\"row pk-search-entry\"})[0].contents\n",
        "        results.append({\n",
        "            'brewery_name': soup.find_all(\"ol\", {\"class\":\"breadcrumb pk-breadcrumb\"})[0].find_all('li')[1].text,\n",
        "            'name': tmp[3].text,\n",
        "            'rating': float(html_entry.find_all(\"div\", {\"class\":\"row rating\"})[0].text),\n",
        "            'type': tmp[6].text,\n",
        "            'thumbnail_link': tmp[1].get('src'),\n",
        "        })\n",
        "    return results"
      ],
      "execution_count": null,
      "outputs": []
    },
    {
      "cell_type": "code",
      "metadata": {
        "colab": {
          "base_uri": "https://localhost:8080/",
          "height": 143
        },
        "id": "zsWbgiybK68C",
        "outputId": "8a0f7fd0-d2fd-4150-f629-e9382c89e22b"
      },
      "source": [
        "pd.DataFrame(extract_brewery_beers_from_html(html_content))"
      ],
      "execution_count": null,
      "outputs": [
        {
          "output_type": "execute_result",
          "data": {
            "text/html": [
              "<div>\n",
              "<style scoped>\n",
              "    .dataframe tbody tr th:only-of-type {\n",
              "        vertical-align: middle;\n",
              "    }\n",
              "\n",
              "    .dataframe tbody tr th {\n",
              "        vertical-align: top;\n",
              "    }\n",
              "\n",
              "    .dataframe thead th {\n",
              "        text-align: right;\n",
              "    }\n",
              "</style>\n",
              "<table border=\"1\" class=\"dataframe\">\n",
              "  <thead>\n",
              "    <tr style=\"text-align: right;\">\n",
              "      <th></th>\n",
              "      <th>brewery_name</th>\n",
              "      <th>name</th>\n",
              "      <th>rating</th>\n",
              "      <th>type</th>\n",
              "      <th>thumbnail_link</th>\n",
              "    </tr>\n",
              "  </thead>\n",
              "  <tbody>\n",
              "    <tr>\n",
              "      <th>0</th>\n",
              "      <td>Monkey Browar</td>\n",
              "      <td>Wróg U Bram</td>\n",
              "      <td>3.6</td>\n",
              "      <td>American Pale Ale</td>\n",
              "      <td>https://www.polskikraft.pl/img/photos/16019238...</td>\n",
              "    </tr>\n",
              "    <tr>\n",
              "      <th>1</th>\n",
              "      <td>Monkey Browar</td>\n",
              "      <td>Born To Be Hoppy</td>\n",
              "      <td>4.1</td>\n",
              "      <td>DDH DIPA</td>\n",
              "      <td>https://www.polskikraft.pl/img/photos/16019237...</td>\n",
              "    </tr>\n",
              "    <tr>\n",
              "      <th>2</th>\n",
              "      <td>Monkey Browar</td>\n",
              "      <td>Born To Be Hoppy</td>\n",
              "      <td>4.4</td>\n",
              "      <td>DDH Double IPA</td>\n",
              "      <td>https://www.polskikraft.pl/img/photos/16019229...</td>\n",
              "    </tr>\n",
              "  </tbody>\n",
              "</table>\n",
              "</div>"
            ],
            "text/plain": [
              "    brewery_name  ...                                     thumbnail_link\n",
              "0  Monkey Browar  ...  https://www.polskikraft.pl/img/photos/16019238...\n",
              "1  Monkey Browar  ...  https://www.polskikraft.pl/img/photos/16019237...\n",
              "2  Monkey Browar  ...  https://www.polskikraft.pl/img/photos/16019229...\n",
              "\n",
              "[3 rows x 5 columns]"
            ]
          },
          "metadata": {
            "tags": []
          },
          "execution_count": 100
        }
      ]
    },
    {
      "cell_type": "code",
      "metadata": {
        "id": "FfF31tbnJG9w"
      },
      "source": [
        "def extract_brewery_rating_from_brewery_html(html_content):\n",
        "    #in: string containing html file\n",
        "    #out: dict of extracted properties:\n",
        "    #     {...}\n",
        "    soup = BeautifulSoup(html_content, 'html.parser')\n",
        "    the_div = soup.find_all(\"div\", {\"class\":\"panel-body pk-panel-photo-tile\"})[0]\n",
        "    results = {\n",
        "        'name': the_div.find(\"p\", {\"class\":\"beer-name\"}).text,\n",
        "        'beers': the_div.find(\"p\", {\"class\":\"brewery-name\"}).text,\n",
        "        'rating': float(the_div.find(\"span\", {\"class\":\"rating\"}).text),\n",
        "        'logo_link': soup.find_all(\"div\", {\"class\":\"panel-body pk-panel-photo-tile\"})[0].find('img').get('src'),\n",
        "    }\n",
        "    return results"
      ],
      "execution_count": null,
      "outputs": []
    },
    {
      "cell_type": "code",
      "metadata": {
        "colab": {
          "base_uri": "https://localhost:8080/"
        },
        "id": "YTa5Z9X3NB_M",
        "outputId": "40279058-f99c-4309-b8be-1715e5b73704"
      },
      "source": [
        "extract_brewery_rating_from_brewery_html(html_content)"
      ],
      "execution_count": null,
      "outputs": [
        {
          "output_type": "execute_result",
          "data": {
            "text/plain": [
              "{'beers': '3 piwa',\n",
              " 'logo_link': 'https://www.polskikraft.pl/img/photos/1601922522.jpg',\n",
              " 'name': 'Monkey Browar',\n",
              " 'rating': 4.0}"
            ]
          },
          "metadata": {
            "tags": []
          },
          "execution_count": 115
        }
      ]
    },
    {
      "cell_type": "markdown",
      "metadata": {
        "id": "0aS3ptx9NST7"
      },
      "source": [
        "# Beers"
      ]
    },
    {
      "cell_type": "code",
      "metadata": {
        "id": "iJakTG9tuc_P"
      },
      "source": [
        "with open('piwa/9740.html', 'r') as f:\n",
        "    html_content = f.read()\n",
        "soup = BeautifulSoup(html_content, 'html.parser')"
      ],
      "execution_count": null,
      "outputs": []
    },
    {
      "cell_type": "code",
      "metadata": {
        "id": "e9ReJQA2e_G_"
      },
      "source": [
        "def extract_similar_beers_from_beer_html(html_content):\n",
        "    #in: string containing html file\n",
        "    #out: dict of extracted properties:\n",
        "    #     {...}\n",
        "\n",
        "    soup = BeautifulSoup(html_content, 'html.parser')\n",
        "    similar_div = soup.find_all(\"div\", {\"class\":\"panel-body pk-panel-tile pk-panel-tile-list\"})[4]\n",
        "    hrefs = [x.get(\"href\") for x in similar_div.find_all(\"a\", {\"class\":\"big-link\"})]\n",
        "    return [{'similar': x.split('_')[-1], 'similar_link': x} for x in hrefs]"
      ],
      "execution_count": 270,
      "outputs": []
    },
    {
      "cell_type": "code",
      "metadata": {
        "colab": {
          "base_uri": "https://localhost:8080/",
          "height": 424
        },
        "id": "ONiUWFy7iDb8",
        "outputId": "ca4a3cd7-b052-4633-b379-ae1e567fd54b"
      },
      "source": [
        "pd.DataFrame(extract_similar_beers_from_beer_html(html_content))"
      ],
      "execution_count": 271,
      "outputs": [
        {
          "output_type": "execute_result",
          "data": {
            "text/html": [
              "<div>\n",
              "<style scoped>\n",
              "    .dataframe tbody tr th:only-of-type {\n",
              "        vertical-align: middle;\n",
              "    }\n",
              "\n",
              "    .dataframe tbody tr th {\n",
              "        vertical-align: top;\n",
              "    }\n",
              "\n",
              "    .dataframe thead th {\n",
              "        text-align: right;\n",
              "    }\n",
              "</style>\n",
              "<table border=\"1\" class=\"dataframe\">\n",
              "  <thead>\n",
              "    <tr style=\"text-align: right;\">\n",
              "      <th></th>\n",
              "      <th>similar</th>\n",
              "      <th>similar_link</th>\n",
              "    </tr>\n",
              "  </thead>\n",
              "  <tbody>\n",
              "    <tr>\n",
              "      <th>0</th>\n",
              "      <td>1748</td>\n",
              "      <td>https://www.polskikraft.pl/piwo/pinta-vermont-...</td>\n",
              "    </tr>\n",
              "    <tr>\n",
              "      <th>1</th>\n",
              "      <td>2330</td>\n",
              "      <td>https://www.polskikraft.pl/piwo/browar-ziemia-...</td>\n",
              "    </tr>\n",
              "    <tr>\n",
              "      <th>2</th>\n",
              "      <td>2476</td>\n",
              "      <td>https://www.polskikraft.pl/piwo/browar-bazylis...</td>\n",
              "    </tr>\n",
              "    <tr>\n",
              "      <th>3</th>\n",
              "      <td>2485</td>\n",
              "      <td>https://www.polskikraft.pl/piwo/browar-deer-be...</td>\n",
              "    </tr>\n",
              "    <tr>\n",
              "      <th>4</th>\n",
              "      <td>2568</td>\n",
              "      <td>https://www.polskikraft.pl/piwo/piwne-podziemi...</td>\n",
              "    </tr>\n",
              "    <tr>\n",
              "      <th>...</th>\n",
              "      <td>...</td>\n",
              "      <td>...</td>\n",
              "    </tr>\n",
              "    <tr>\n",
              "      <th>294</th>\n",
              "      <td>9700</td>\n",
              "      <td>https://www.polskikraft.pl/piwo/piwojad-test-%...</td>\n",
              "    </tr>\n",
              "    <tr>\n",
              "      <th>295</th>\n",
              "      <td>9704</td>\n",
              "      <td>https://www.polskikraft.pl/piwo/browar-stu-mos...</td>\n",
              "    </tr>\n",
              "    <tr>\n",
              "      <th>296</th>\n",
              "      <td>9705</td>\n",
              "      <td>https://www.polskikraft.pl/piwo/piwojad-ddh-ne...</td>\n",
              "    </tr>\n",
              "    <tr>\n",
              "      <th>297</th>\n",
              "      <td>9723</td>\n",
              "      <td>https://www.polskikraft.pl/piwo/alebrowar-new-...</td>\n",
              "    </tr>\n",
              "    <tr>\n",
              "      <th>298</th>\n",
              "      <td>9725</td>\n",
              "      <td>https://www.polskikraft.pl/piwo/browar-funky-f...</td>\n",
              "    </tr>\n",
              "  </tbody>\n",
              "</table>\n",
              "<p>299 rows × 2 columns</p>\n",
              "</div>"
            ],
            "text/plain": [
              "    similar                                       similar_link\n",
              "0      1748  https://www.polskikraft.pl/piwo/pinta-vermont-...\n",
              "1      2330  https://www.polskikraft.pl/piwo/browar-ziemia-...\n",
              "2      2476  https://www.polskikraft.pl/piwo/browar-bazylis...\n",
              "3      2485  https://www.polskikraft.pl/piwo/browar-deer-be...\n",
              "4      2568  https://www.polskikraft.pl/piwo/piwne-podziemi...\n",
              "..      ...                                                ...\n",
              "294    9700  https://www.polskikraft.pl/piwo/piwojad-test-%...\n",
              "295    9704  https://www.polskikraft.pl/piwo/browar-stu-mos...\n",
              "296    9705  https://www.polskikraft.pl/piwo/piwojad-ddh-ne...\n",
              "297    9723  https://www.polskikraft.pl/piwo/alebrowar-new-...\n",
              "298    9725  https://www.polskikraft.pl/piwo/browar-funky-f...\n",
              "\n",
              "[299 rows x 2 columns]"
            ]
          },
          "metadata": {
            "tags": []
          },
          "execution_count": 271
        }
      ]
    },
    {
      "cell_type": "code",
      "metadata": {
        "id": "m-Jts5KLNWqQ"
      },
      "source": [
        "def extract_beer_data_from_beer_html(html_content):\n",
        "    #in: string containing html file\n",
        "    #out: dict of extracted properties:\n",
        "    #     {...}\n",
        "\n",
        "    soup = BeautifulSoup(html_content, 'html.parser')\n",
        "    the_div = soup.find_all(\"div\", {\"class\":\"panel-body pk-panel-photo-tile\"})[0]\n",
        "    description_div = soup.find_all(\"div\", {\"class\":\"panel-body pk-panel-tile\"})[0]\n",
        "    results = {\n",
        "        'name': the_div.find(\"p\", {\"class\":\"beer-name\"}).text,\n",
        "        'brewery': the_div.find(\"p\", {\"class\":\"brewery-name\"}).text,\n",
        "        'rating': float(the_div.find(\"span\", {\"class\":\"rating\"}).text),\n",
        "        'logo_link': soup.find_all(\"div\", {\"class\":\"panel-body pk-panel-photo-tile\"})[0].find('img').get('src'),\n",
        "        'features': {x.find(\"p\").text: x.find(\"h1\").text\n",
        "            for x in description_div.find_all(\"div\", {\"class\": \"col-xs-4\"})},\n",
        "        'descriptive_features': {x.find(\"h3\").text: x.find(\"p\").text.strip()\n",
        "            for x in description_div.find_all(\"div\", {\"class\": \"col-xs-12 pk-details-category\"})}\n",
        "    }\n",
        "    return results"
      ],
      "execution_count": 267,
      "outputs": []
    },
    {
      "cell_type": "code",
      "metadata": {
        "colab": {
          "base_uri": "https://localhost:8080/"
        },
        "id": "8mqKBIcihInO",
        "outputId": "914cca24-d6d3-42bb-eb83-026290e72016"
      },
      "source": [
        "extract_beer_data_from_beer_html(html_content)"
      ],
      "execution_count": 268,
      "outputs": [
        {
          "output_type": "execute_result",
          "data": {
            "text/plain": [
              "{'brewery': 'BROWAR ABSZTYFIKANT',\n",
              " 'descriptive_features': {'CHMIELE': 'Citra (USA), Mosaic (USA), Simcoe (USA)',\n",
              "  'STYL': 'New England IPA'},\n",
              " 'features': {'alc': '5.6', 'blg': '14', 'ibu': '-'},\n",
              " 'logo_link': 'https://www.polskikraft.pl/img/photos/1607626847.jpg',\n",
              " 'name': 'Jupikajej 6.0',\n",
              " 'rating': 3.1}"
            ]
          },
          "metadata": {
            "tags": []
          },
          "execution_count": 268
        }
      ]
    },
    {
      "cell_type": "code",
      "metadata": {
        "id": "We2ULdb6O6hx"
      },
      "source": [
        "def extract_user_ratings_from_beer_html(html_content):\n",
        "    #in: string containing html file\n",
        "    #out: list of dicts of extracted properties:\n",
        "    #     {...}\n",
        "    soup = BeautifulSoup(html_content, 'html.parser')\n",
        "    the_div = soup.find(\"div\", {\"class\":\"panel panel-default hidden-xs\"})\n",
        "    ratings_element = the_div.find_all(\"div\", {\"class\":\"row pk-comments-item pk-comment-link\"})\n",
        "    results = []\n",
        "    for user_rating_element in ratings_element:\n",
        "        user_profile_link = user_rating_element.find_all(\"a\")[1].get('href')\n",
        "        username_element = user_rating_element.find(\"p\", {\"class\": \"username\"})\n",
        "        tmp = user_rating_element.find_all(\"div\", {\"class\":\"row pk-comments-bjcp-bar\"})\n",
        "        results.append({\n",
        "            'rating': len(user_rating_element.find_all(\"i\", {\"class\":\"fa fa-star fa-lg\"})),\n",
        "            'user': list(username_element.children)[0].strip(),\n",
        "            'date': username_element.find(\"sub\").text,\n",
        "            'user_id': user_profile_link.split('/')[-1],\n",
        "            'user_profile': user_profile_link,\n",
        "            'user_avatar_link': user_rating_element.find(\"img\").get(\"src\"),\n",
        "            'comment': user_rating_element.find(\"p\", {\"class\":\"content\"}).text.strip(),\n",
        "            'BJCP': {\n",
        "                x.find('p', {\"class\":\"title\"}).text:\n",
        "                x.find('p', {\"class\":\"rating\"}).text\n",
        "                for x in tmp\n",
        "                },\n",
        "        })\n",
        "    return results"
      ],
      "execution_count": 214,
      "outputs": []
    },
    {
      "cell_type": "code",
      "metadata": {
        "colab": {
          "base_uri": "https://localhost:8080/",
          "height": 244
        },
        "id": "vIlJiRBEW3fr",
        "outputId": "6140a492-b5f2-485d-ad36-8684d8622088"
      },
      "source": [
        "pd.DataFrame(extract_user_ratings_from_beer_html(html_content))"
      ],
      "execution_count": 215,
      "outputs": [
        {
          "output_type": "execute_result",
          "data": {
            "text/html": [
              "<div>\n",
              "<style scoped>\n",
              "    .dataframe tbody tr th:only-of-type {\n",
              "        vertical-align: middle;\n",
              "    }\n",
              "\n",
              "    .dataframe tbody tr th {\n",
              "        vertical-align: top;\n",
              "    }\n",
              "\n",
              "    .dataframe thead th {\n",
              "        text-align: right;\n",
              "    }\n",
              "</style>\n",
              "<table border=\"1\" class=\"dataframe\">\n",
              "  <thead>\n",
              "    <tr style=\"text-align: right;\">\n",
              "      <th></th>\n",
              "      <th>rating</th>\n",
              "      <th>user</th>\n",
              "      <th>date</th>\n",
              "      <th>user_id</th>\n",
              "      <th>user_profile</th>\n",
              "      <th>user_avatar_link</th>\n",
              "      <th>comment</th>\n",
              "      <th>BJCP</th>\n",
              "    </tr>\n",
              "  </thead>\n",
              "  <tbody>\n",
              "    <tr>\n",
              "      <th>0</th>\n",
              "      <td>3</td>\n",
              "      <td>eMeS</td>\n",
              "      <td>12/02/2021</td>\n",
              "      <td>2201</td>\n",
              "      <td>https://www.polskikraft.pl/profil/2201</td>\n",
              "      <td>https://graph.facebook.com/v2.5/13347658665491...</td>\n",
              "      <td></td>\n",
              "      <td>{}</td>\n",
              "    </tr>\n",
              "    <tr>\n",
              "      <th>1</th>\n",
              "      <td>3</td>\n",
              "      <td>Tomasz Romaszko</td>\n",
              "      <td>13/12/2020</td>\n",
              "      <td>21290</td>\n",
              "      <td>https://www.polskikraft.pl/profil/21290</td>\n",
              "      <td>https://graph.facebook.com/v2.5/22950427405543...</td>\n",
              "      <td></td>\n",
              "      <td>{}</td>\n",
              "    </tr>\n",
              "    <tr>\n",
              "      <th>2</th>\n",
              "      <td>3</td>\n",
              "      <td>WaldoBeerSan</td>\n",
              "      <td>12/12/2020</td>\n",
              "      <td>14866</td>\n",
              "      <td>https://www.polskikraft.pl/profil/14866</td>\n",
              "      <td>https://www.polskikraft.pl/img/layout/ic_user_...</td>\n",
              "      <td>Dobre Piwo, słodycz niska, barwa bursztynowa, ...</td>\n",
              "      <td>{'AROMAT': '8/12', 'WYGLĄD': '3/3', 'SMAK': '1...</td>\n",
              "    </tr>\n",
              "    <tr>\n",
              "      <th>3</th>\n",
              "      <td>3</td>\n",
              "      <td>Piter Casch</td>\n",
              "      <td>10/12/2020</td>\n",
              "      <td>13459</td>\n",
              "      <td>https://www.polskikraft.pl/profil/13459</td>\n",
              "      <td>https://platform-lookaside.fbsbx.com/platform/...</td>\n",
              "      <td>Wygląd wody z kałuży. W smaku ok.</td>\n",
              "      <td>{}</td>\n",
              "    </tr>\n",
              "  </tbody>\n",
              "</table>\n",
              "</div>"
            ],
            "text/plain": [
              "   rating  ...                                               BJCP\n",
              "0       3  ...                                                 {}\n",
              "1       3  ...                                                 {}\n",
              "2       3  ...  {'AROMAT': '8/12', 'WYGLĄD': '3/3', 'SMAK': '1...\n",
              "3       3  ...                                                 {}\n",
              "\n",
              "[4 rows x 8 columns]"
            ]
          },
          "metadata": {
            "tags": []
          },
          "execution_count": 215
        }
      ]
    },
    {
      "cell_type": "markdown",
      "metadata": {
        "id": "NLkicj54NSJI"
      },
      "source": [
        "# Users"
      ]
    },
    {
      "cell_type": "code",
      "metadata": {
        "id": "ZWUl2S5INVvk"
      },
      "source": [
        "# In theory the data in user htmls is redundant to what we already have\n",
        "# there should be no need to scrap the user profiles.\n",
        "\n",
        "# It would be a huge burden on the PolskiBrowar.pl servers to \n",
        "# handle 20k+ of our requests downloading user profiles\n",
        "# in order not to disrupt their service (it would take at least 3h, \n",
        "# in the worst case 23h) I do not even implement \n",
        "# the user-data extracting code.\n",
        "# At least for now, beware."
      ],
      "execution_count": null,
      "outputs": []
    }
  ]
}