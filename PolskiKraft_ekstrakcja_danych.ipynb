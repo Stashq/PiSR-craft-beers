{
  "nbformat": 4,
  "nbformat_minor": 0,
  "metadata": {
    "colab": {
      "name": "PolskiKraft - ekstrakcja danych.ipynb",
      "provenance": [],
      "collapsed_sections": []
    },
    "kernelspec": {
      "name": "python3",
      "display_name": "Python 3"
    },
    "language_info": {
      "name": "python"
    },
    "widgets": {
      "application/vnd.jupyter.widget-state+json": {
        "08696cf57c704af4bfd414323ce01d3d": {
          "model_module": "@jupyter-widgets/controls",
          "model_name": "HBoxModel",
          "state": {
            "_view_name": "HBoxView",
            "_dom_classes": [],
            "_model_name": "HBoxModel",
            "_view_module": "@jupyter-widgets/controls",
            "_model_module_version": "1.5.0",
            "_view_count": null,
            "_view_module_version": "1.5.0",
            "box_style": "",
            "layout": "IPY_MODEL_774fb930b267498baa47be29a7e1d178",
            "_model_module": "@jupyter-widgets/controls",
            "children": [
              "IPY_MODEL_2af70db7fc1a45ce95ce198ed053afe7",
              "IPY_MODEL_c5b27c5feca24bc484186a8eb877c670"
            ]
          }
        },
        "774fb930b267498baa47be29a7e1d178": {
          "model_module": "@jupyter-widgets/base",
          "model_name": "LayoutModel",
          "state": {
            "_view_name": "LayoutView",
            "grid_template_rows": null,
            "right": null,
            "justify_content": null,
            "_view_module": "@jupyter-widgets/base",
            "overflow": null,
            "_model_module_version": "1.2.0",
            "_view_count": null,
            "flex_flow": null,
            "width": null,
            "min_width": null,
            "border": null,
            "align_items": null,
            "bottom": null,
            "_model_module": "@jupyter-widgets/base",
            "top": null,
            "grid_column": null,
            "overflow_y": null,
            "overflow_x": null,
            "grid_auto_flow": null,
            "grid_area": null,
            "grid_template_columns": null,
            "flex": null,
            "_model_name": "LayoutModel",
            "justify_items": null,
            "grid_row": null,
            "max_height": null,
            "align_content": null,
            "visibility": null,
            "align_self": null,
            "height": null,
            "min_height": null,
            "padding": null,
            "grid_auto_rows": null,
            "grid_gap": null,
            "max_width": null,
            "order": null,
            "_view_module_version": "1.2.0",
            "grid_template_areas": null,
            "object_position": null,
            "object_fit": null,
            "grid_auto_columns": null,
            "margin": null,
            "display": null,
            "left": null
          }
        },
        "2af70db7fc1a45ce95ce198ed053afe7": {
          "model_module": "@jupyter-widgets/controls",
          "model_name": "FloatProgressModel",
          "state": {
            "_view_name": "ProgressView",
            "style": "IPY_MODEL_080e51d2bc284fb8b016d9fd56c1ad86",
            "_dom_classes": [],
            "description": "  2%",
            "_model_name": "FloatProgressModel",
            "bar_style": "",
            "max": 9740,
            "_view_module": "@jupyter-widgets/controls",
            "_model_module_version": "1.5.0",
            "value": 149,
            "_view_count": null,
            "_view_module_version": "1.5.0",
            "orientation": "horizontal",
            "min": 0,
            "description_tooltip": null,
            "_model_module": "@jupyter-widgets/controls",
            "layout": "IPY_MODEL_a79d9f0665b54e42a0562989390825e1"
          }
        },
        "c5b27c5feca24bc484186a8eb877c670": {
          "model_module": "@jupyter-widgets/controls",
          "model_name": "HTMLModel",
          "state": {
            "_view_name": "HTMLView",
            "style": "IPY_MODEL_d76dbdb657f54aa49cceaee3e383db29",
            "_dom_classes": [],
            "description": "",
            "_model_name": "HTMLModel",
            "placeholder": "​",
            "_view_module": "@jupyter-widgets/controls",
            "_model_module_version": "1.5.0",
            "value": " 149/9740 [04:21&lt;4:44:20,  1.78s/it]",
            "_view_count": null,
            "_view_module_version": "1.5.0",
            "description_tooltip": null,
            "_model_module": "@jupyter-widgets/controls",
            "layout": "IPY_MODEL_5eca06ace8eb4abfbcee7a78f25d1708"
          }
        },
        "080e51d2bc284fb8b016d9fd56c1ad86": {
          "model_module": "@jupyter-widgets/controls",
          "model_name": "ProgressStyleModel",
          "state": {
            "_view_name": "StyleView",
            "_model_name": "ProgressStyleModel",
            "description_width": "initial",
            "_view_module": "@jupyter-widgets/base",
            "_model_module_version": "1.5.0",
            "_view_count": null,
            "_view_module_version": "1.2.0",
            "bar_color": null,
            "_model_module": "@jupyter-widgets/controls"
          }
        },
        "a79d9f0665b54e42a0562989390825e1": {
          "model_module": "@jupyter-widgets/base",
          "model_name": "LayoutModel",
          "state": {
            "_view_name": "LayoutView",
            "grid_template_rows": null,
            "right": null,
            "justify_content": null,
            "_view_module": "@jupyter-widgets/base",
            "overflow": null,
            "_model_module_version": "1.2.0",
            "_view_count": null,
            "flex_flow": null,
            "width": null,
            "min_width": null,
            "border": null,
            "align_items": null,
            "bottom": null,
            "_model_module": "@jupyter-widgets/base",
            "top": null,
            "grid_column": null,
            "overflow_y": null,
            "overflow_x": null,
            "grid_auto_flow": null,
            "grid_area": null,
            "grid_template_columns": null,
            "flex": null,
            "_model_name": "LayoutModel",
            "justify_items": null,
            "grid_row": null,
            "max_height": null,
            "align_content": null,
            "visibility": null,
            "align_self": null,
            "height": null,
            "min_height": null,
            "padding": null,
            "grid_auto_rows": null,
            "grid_gap": null,
            "max_width": null,
            "order": null,
            "_view_module_version": "1.2.0",
            "grid_template_areas": null,
            "object_position": null,
            "object_fit": null,
            "grid_auto_columns": null,
            "margin": null,
            "display": null,
            "left": null
          }
        },
        "d76dbdb657f54aa49cceaee3e383db29": {
          "model_module": "@jupyter-widgets/controls",
          "model_name": "DescriptionStyleModel",
          "state": {
            "_view_name": "StyleView",
            "_model_name": "DescriptionStyleModel",
            "description_width": "",
            "_view_module": "@jupyter-widgets/base",
            "_model_module_version": "1.5.0",
            "_view_count": null,
            "_view_module_version": "1.2.0",
            "_model_module": "@jupyter-widgets/controls"
          }
        },
        "5eca06ace8eb4abfbcee7a78f25d1708": {
          "model_module": "@jupyter-widgets/base",
          "model_name": "LayoutModel",
          "state": {
            "_view_name": "LayoutView",
            "grid_template_rows": null,
            "right": null,
            "justify_content": null,
            "_view_module": "@jupyter-widgets/base",
            "overflow": null,
            "_model_module_version": "1.2.0",
            "_view_count": null,
            "flex_flow": null,
            "width": null,
            "min_width": null,
            "border": null,
            "align_items": null,
            "bottom": null,
            "_model_module": "@jupyter-widgets/base",
            "top": null,
            "grid_column": null,
            "overflow_y": null,
            "overflow_x": null,
            "grid_auto_flow": null,
            "grid_area": null,
            "grid_template_columns": null,
            "flex": null,
            "_model_name": "LayoutModel",
            "justify_items": null,
            "grid_row": null,
            "max_height": null,
            "align_content": null,
            "visibility": null,
            "align_self": null,
            "height": null,
            "min_height": null,
            "padding": null,
            "grid_auto_rows": null,
            "grid_gap": null,
            "max_width": null,
            "order": null,
            "_view_module_version": "1.2.0",
            "grid_template_areas": null,
            "object_position": null,
            "object_fit": null,
            "grid_auto_columns": null,
            "margin": null,
            "display": null,
            "left": null
          }
        }
      }
    }
  },
  "cells": [
    {
      "cell_type": "code",
      "metadata": {
        "id": "gQMXkjN39zPI"
      },
      "source": [
        "# ostatnie piwo: https://www.polskikraft.pl/piwo/9740\n",
        "# ostatni browar: https://www.polskikraft.pl/browar/411\n",
        "# ostatni user: https://www.polskikraft.pl/profil/28348"
      ],
      "execution_count": null,
      "outputs": []
    },
    {
      "cell_type": "markdown",
      "metadata": {
        "id": "MD2p-1GPAfCG"
      },
      "source": [
        "# imports"
      ]
    },
    {
      "cell_type": "code",
      "metadata": {
        "id": "FkMvbvZz_P4T"
      },
      "source": [
        "import os\n",
        "dumpdir = '/content/drive/MyDrive/datasets/PolskiKraft'"
      ],
      "execution_count": 2,
      "outputs": []
    },
    {
      "cell_type": "code",
      "metadata": {
        "id": "BV01Ef1CLunp"
      },
      "source": [
        "import pandas as pd\n",
        "from tqdm.auto import tqdm\n",
        "from bs4 import BeautifulSoup"
      ],
      "execution_count": 3,
      "outputs": []
    },
    {
      "cell_type": "code",
      "metadata": {
        "id": "lbTKSU2rAr4S"
      },
      "source": [
        "# import the data\n",
        "!cp {dumpdir}/*.zip .\n",
        "!unzip -q piwa.zip\n",
        "!unzip -q browary.zip"
      ],
      "execution_count": 9,
      "outputs": []
    },
    {
      "cell_type": "markdown",
      "metadata": {
        "id": "x4wWg-oDuKIS"
      },
      "source": [
        "# Extracting the data"
      ]
    },
    {
      "cell_type": "markdown",
      "metadata": {
        "id": "iWRohhid_tye"
      },
      "source": [
        "## Etractors (defining the functions)"
      ]
    },
    {
      "cell_type": "markdown",
      "metadata": {
        "id": "uawT-yKfNO3_"
      },
      "source": [
        "### Brewery"
      ]
    },
    {
      "cell_type": "code",
      "metadata": {
        "id": "B-_LhJS1BNyt"
      },
      "source": [
        "with open('browary/411.html', 'r') as f:\n",
        "    html_content = f.read()"
      ],
      "execution_count": 12,
      "outputs": []
    },
    {
      "cell_type": "code",
      "metadata": {
        "id": "hmY2vjMdFljM"
      },
      "source": [
        "def extract_brewery_beers_from_brewery_html(html_content):\n",
        "    #in: string containing html file\n",
        "    #out: list of dicts of extracted properties:\n",
        "    #     [{...}]\n",
        "    soup = BeautifulSoup(html_content, 'html.parser')\n",
        "    beer_entries = soup.find_all(\"div\", {\"class\": \"pk-search-entry-link\"})\n",
        "    results = []\n",
        "    for html_entry in beer_entries:\n",
        "\n",
        "        tmp = html_entry.find_all(\"div\", {\"class\":\"row pk-search-entry\"})[0].contents\n",
        "        results.append({\n",
        "            'brewery_name': soup.find_all(\"ol\", {\"class\":\"breadcrumb pk-breadcrumb\"})[0].find_all('li')[1].text,\n",
        "            'name': tmp[3].text,\n",
        "            'rating': float(html_entry.find_all(\"div\", {\"class\":\"row rating\"})[0].text),\n",
        "            'type': tmp[6].text,\n",
        "            'thumbnail_link': tmp[1].get('src'),\n",
        "        })\n",
        "    return results"
      ],
      "execution_count": 10,
      "outputs": []
    },
    {
      "cell_type": "code",
      "metadata": {
        "colab": {
          "base_uri": "https://localhost:8080/",
          "height": 143
        },
        "id": "zsWbgiybK68C",
        "outputId": "389a7e71-773a-4f45-98bf-400d32d070f9"
      },
      "source": [
        "pd.DataFrame(extract_brewery_beers_from_brewery_html(html_content))"
      ],
      "execution_count": 13,
      "outputs": [
        {
          "output_type": "execute_result",
          "data": {
            "text/html": [
              "<div>\n",
              "<style scoped>\n",
              "    .dataframe tbody tr th:only-of-type {\n",
              "        vertical-align: middle;\n",
              "    }\n",
              "\n",
              "    .dataframe tbody tr th {\n",
              "        vertical-align: top;\n",
              "    }\n",
              "\n",
              "    .dataframe thead th {\n",
              "        text-align: right;\n",
              "    }\n",
              "</style>\n",
              "<table border=\"1\" class=\"dataframe\">\n",
              "  <thead>\n",
              "    <tr style=\"text-align: right;\">\n",
              "      <th></th>\n",
              "      <th>brewery_name</th>\n",
              "      <th>name</th>\n",
              "      <th>rating</th>\n",
              "      <th>type</th>\n",
              "      <th>thumbnail_link</th>\n",
              "    </tr>\n",
              "  </thead>\n",
              "  <tbody>\n",
              "    <tr>\n",
              "      <th>0</th>\n",
              "      <td>Monkey Browar</td>\n",
              "      <td>Wróg U Bram</td>\n",
              "      <td>3.6</td>\n",
              "      <td>American Pale Ale</td>\n",
              "      <td>https://www.polskikraft.pl/img/photos/16019238...</td>\n",
              "    </tr>\n",
              "    <tr>\n",
              "      <th>1</th>\n",
              "      <td>Monkey Browar</td>\n",
              "      <td>Born To Be Hoppy</td>\n",
              "      <td>4.1</td>\n",
              "      <td>DDH DIPA</td>\n",
              "      <td>https://www.polskikraft.pl/img/photos/16019237...</td>\n",
              "    </tr>\n",
              "    <tr>\n",
              "      <th>2</th>\n",
              "      <td>Monkey Browar</td>\n",
              "      <td>Born To Be Hoppy</td>\n",
              "      <td>4.4</td>\n",
              "      <td>DDH Double IPA</td>\n",
              "      <td>https://www.polskikraft.pl/img/photos/16019229...</td>\n",
              "    </tr>\n",
              "  </tbody>\n",
              "</table>\n",
              "</div>"
            ],
            "text/plain": [
              "    brewery_name  ...                                     thumbnail_link\n",
              "0  Monkey Browar  ...  https://www.polskikraft.pl/img/photos/16019238...\n",
              "1  Monkey Browar  ...  https://www.polskikraft.pl/img/photos/16019237...\n",
              "2  Monkey Browar  ...  https://www.polskikraft.pl/img/photos/16019229...\n",
              "\n",
              "[3 rows x 5 columns]"
            ]
          },
          "metadata": {
            "tags": []
          },
          "execution_count": 13
        }
      ]
    },
    {
      "cell_type": "code",
      "metadata": {
        "id": "FfF31tbnJG9w"
      },
      "source": [
        "def extract_brewery_rating_from_brewery_html(html_content):\n",
        "    #in: string containing html file\n",
        "    #out: dict of extracted properties:\n",
        "    #     {...}\n",
        "    soup = BeautifulSoup(html_content, 'html.parser')\n",
        "    the_div = soup.find_all(\"div\", {\"class\":\"panel-body pk-panel-photo-tile\"})[0]\n",
        "    results = {\n",
        "        'name': the_div.find(\"p\", {\"class\":\"beer-name\"}).text,\n",
        "        'beers': the_div.find(\"p\", {\"class\":\"brewery-name\"}).text,\n",
        "        'rating': float(the_div.find(\"span\", {\"class\":\"rating\"}).text),\n",
        "        'logo_link': soup.find_all(\"div\", {\"class\":\"panel-body pk-panel-photo-tile\"})[0].find('img').get('src'),\n",
        "    }\n",
        "    return results"
      ],
      "execution_count": 14,
      "outputs": []
    },
    {
      "cell_type": "code",
      "metadata": {
        "colab": {
          "base_uri": "https://localhost:8080/"
        },
        "id": "YTa5Z9X3NB_M",
        "outputId": "97d75b57-7d68-480a-daf9-56422f734317"
      },
      "source": [
        "extract_brewery_rating_from_brewery_html(html_content)"
      ],
      "execution_count": 15,
      "outputs": [
        {
          "output_type": "execute_result",
          "data": {
            "text/plain": [
              "{'beers': '3 piwa',\n",
              " 'logo_link': 'https://www.polskikraft.pl/img/photos/1601922522.jpg',\n",
              " 'name': 'Monkey Browar',\n",
              " 'rating': 4.0}"
            ]
          },
          "metadata": {
            "tags": []
          },
          "execution_count": 15
        }
      ]
    },
    {
      "cell_type": "markdown",
      "metadata": {
        "id": "0aS3ptx9NST7"
      },
      "source": [
        "### Beers"
      ]
    },
    {
      "cell_type": "code",
      "metadata": {
        "id": "iJakTG9tuc_P"
      },
      "source": [
        "with open('piwa/9740.html', 'r') as f:\n",
        "    html_content = f.read()"
      ],
      "execution_count": 47,
      "outputs": []
    },
    {
      "cell_type": "code",
      "metadata": {
        "id": "e9ReJQA2e_G_"
      },
      "source": [
        "def extract_similar_beers_from_beer_html_soup(soup):\n",
        "    #in: string containing html file\n",
        "    #out: dict of extracted properties:\n",
        "    #     {...}\n",
        "\n",
        "    similar_div = soup.find_all(\"div\", {\"class\":\"panel-body pk-panel-tile pk-panel-tile-list\"})[4]\n",
        "    hrefs = [x.get(\"href\") for x in similar_div.find_all(\"a\", {\"class\":\"big-link\"})]\n",
        "    return [{'similar': x.split('_')[-1], 'similar_link': x} for x in hrefs]\n",
        "\n",
        "def extract_similar_beers_from_beer_html(html_content):\n",
        "    #in: string containing html file\n",
        "    #out: dict of extracted properties:\n",
        "    #     {...}\n",
        "\n",
        "    soup = BeautifulSoup(html_content, 'html.parser')\n",
        "    return extract_similar_beers_from_beer_html_soup(soup)"
      ],
      "execution_count": 58,
      "outputs": []
    },
    {
      "cell_type": "code",
      "metadata": {
        "colab": {
          "base_uri": "https://localhost:8080/",
          "height": 424
        },
        "id": "ONiUWFy7iDb8",
        "outputId": "379a4c4c-a9d2-4366-e2d3-ef7160e056f4"
      },
      "source": [
        "pd.DataFrame(extract_similar_beers_from_beer_html(html_content))"
      ],
      "execution_count": 49,
      "outputs": [
        {
          "output_type": "execute_result",
          "data": {
            "text/html": [
              "<div>\n",
              "<style scoped>\n",
              "    .dataframe tbody tr th:only-of-type {\n",
              "        vertical-align: middle;\n",
              "    }\n",
              "\n",
              "    .dataframe tbody tr th {\n",
              "        vertical-align: top;\n",
              "    }\n",
              "\n",
              "    .dataframe thead th {\n",
              "        text-align: right;\n",
              "    }\n",
              "</style>\n",
              "<table border=\"1\" class=\"dataframe\">\n",
              "  <thead>\n",
              "    <tr style=\"text-align: right;\">\n",
              "      <th></th>\n",
              "      <th>similar</th>\n",
              "      <th>similar_link</th>\n",
              "    </tr>\n",
              "  </thead>\n",
              "  <tbody>\n",
              "    <tr>\n",
              "      <th>0</th>\n",
              "      <td>1748</td>\n",
              "      <td>https://www.polskikraft.pl/piwo/pinta-vermont-...</td>\n",
              "    </tr>\n",
              "    <tr>\n",
              "      <th>1</th>\n",
              "      <td>2330</td>\n",
              "      <td>https://www.polskikraft.pl/piwo/browar-ziemia-...</td>\n",
              "    </tr>\n",
              "    <tr>\n",
              "      <th>2</th>\n",
              "      <td>2476</td>\n",
              "      <td>https://www.polskikraft.pl/piwo/browar-bazylis...</td>\n",
              "    </tr>\n",
              "    <tr>\n",
              "      <th>3</th>\n",
              "      <td>2485</td>\n",
              "      <td>https://www.polskikraft.pl/piwo/browar-deer-be...</td>\n",
              "    </tr>\n",
              "    <tr>\n",
              "      <th>4</th>\n",
              "      <td>2568</td>\n",
              "      <td>https://www.polskikraft.pl/piwo/piwne-podziemi...</td>\n",
              "    </tr>\n",
              "    <tr>\n",
              "      <th>...</th>\n",
              "      <td>...</td>\n",
              "      <td>...</td>\n",
              "    </tr>\n",
              "    <tr>\n",
              "      <th>294</th>\n",
              "      <td>9700</td>\n",
              "      <td>https://www.polskikraft.pl/piwo/piwojad-test-%...</td>\n",
              "    </tr>\n",
              "    <tr>\n",
              "      <th>295</th>\n",
              "      <td>9704</td>\n",
              "      <td>https://www.polskikraft.pl/piwo/browar-stu-mos...</td>\n",
              "    </tr>\n",
              "    <tr>\n",
              "      <th>296</th>\n",
              "      <td>9705</td>\n",
              "      <td>https://www.polskikraft.pl/piwo/piwojad-ddh-ne...</td>\n",
              "    </tr>\n",
              "    <tr>\n",
              "      <th>297</th>\n",
              "      <td>9723</td>\n",
              "      <td>https://www.polskikraft.pl/piwo/alebrowar-new-...</td>\n",
              "    </tr>\n",
              "    <tr>\n",
              "      <th>298</th>\n",
              "      <td>9725</td>\n",
              "      <td>https://www.polskikraft.pl/piwo/browar-funky-f...</td>\n",
              "    </tr>\n",
              "  </tbody>\n",
              "</table>\n",
              "<p>299 rows × 2 columns</p>\n",
              "</div>"
            ],
            "text/plain": [
              "    similar                                       similar_link\n",
              "0      1748  https://www.polskikraft.pl/piwo/pinta-vermont-...\n",
              "1      2330  https://www.polskikraft.pl/piwo/browar-ziemia-...\n",
              "2      2476  https://www.polskikraft.pl/piwo/browar-bazylis...\n",
              "3      2485  https://www.polskikraft.pl/piwo/browar-deer-be...\n",
              "4      2568  https://www.polskikraft.pl/piwo/piwne-podziemi...\n",
              "..      ...                                                ...\n",
              "294    9700  https://www.polskikraft.pl/piwo/piwojad-test-%...\n",
              "295    9704  https://www.polskikraft.pl/piwo/browar-stu-mos...\n",
              "296    9705  https://www.polskikraft.pl/piwo/piwojad-ddh-ne...\n",
              "297    9723  https://www.polskikraft.pl/piwo/alebrowar-new-...\n",
              "298    9725  https://www.polskikraft.pl/piwo/browar-funky-f...\n",
              "\n",
              "[299 rows x 2 columns]"
            ]
          },
          "metadata": {
            "tags": []
          },
          "execution_count": 49
        }
      ]
    },
    {
      "cell_type": "code",
      "metadata": {
        "id": "m-Jts5KLNWqQ"
      },
      "source": [
        "def extract_beer_data_from_beer_html_soup(soup):\n",
        "    #in: string containing html file\n",
        "    #out: dict of extracted properties:\n",
        "    #     {...}\n",
        "\n",
        "    the_div = soup.find(\"div\", {\"class\":\"panel-body pk-panel-photo-tile\"})\n",
        "    description_div = soup.find(\"div\", {\"class\":\"panel-body pk-panel-tile\"})\n",
        "    results = {\n",
        "        'name': the_div.find(\"p\", {\"class\":\"beer-name\"}).text,\n",
        "        'brewery': the_div.find(\"p\", {\"class\":\"brewery-name\"}).text,\n",
        "        'rating': the_div.find(\"span\", {\"class\":\"rating\"}).text.strip(),\n",
        "        'logo_link': soup.find(\"div\", {\"class\":\"panel-body pk-panel-photo-tile\"}).find('img').get('src'),\n",
        "        'features': {x.find(\"p\").text: x.find(\"h1\").text\n",
        "            for x in description_div.find_all(\"div\", {\"class\": \"col-xs-4\"})},\n",
        "        'descriptive_features': {x.find(\"h3\").text: x.find(\"p\").text.strip()\n",
        "            for x in description_div.find_all(\"div\", {\"class\": \"col-xs-12 pk-details-category\"})}\n",
        "    }\n",
        "    return results\n",
        "\n",
        "def extract_beer_data_from_beer_html(html_content):\n",
        "    #in: string containing html file\n",
        "    #out: dict of extracted properties:\n",
        "    #     {...}\n",
        "\n",
        "    soup = BeautifulSoup(html_content, 'html.parser')\n",
        "    return extract_beer_data_from_beer_html_soup(soup)"
      ],
      "execution_count": 98,
      "outputs": []
    },
    {
      "cell_type": "code",
      "metadata": {
        "colab": {
          "base_uri": "https://localhost:8080/"
        },
        "id": "8mqKBIcihInO",
        "outputId": "555b809d-403f-4a25-ce47-402df954d5fd"
      },
      "source": [
        "extract_beer_data_from_beer_html(html_content)"
      ],
      "execution_count": 99,
      "outputs": [
        {
          "output_type": "execute_result",
          "data": {
            "text/plain": [
              "{'brewery': 'PINTA',\n",
              " 'descriptive_features': {'CHMIELE': 'Tradition (DE)',\n",
              "  'DROŻDŻE': 'Safale US-05',\n",
              "  'STYL': 'Lekkie Wędzone',\n",
              "  'SŁODY': 'Wędzony Wayermann, Monachijski II  Weyermann, Caramunich®  II, Carafa® Special  I, Słód PINTA Orzechowy Wędzony'},\n",
              " 'features': {'alc': '3', 'blg': '9', 'ibu': '-'},\n",
              " 'logo_link': 'https://www.polskikraft.pl/img/photos/1442392353.jpg',\n",
              " 'name': 'Podymek',\n",
              " 'rating': ''}"
            ]
          },
          "metadata": {
            "tags": []
          },
          "execution_count": 99
        }
      ]
    },
    {
      "cell_type": "code",
      "metadata": {
        "id": "We2ULdb6O6hx"
      },
      "source": [
        "def extract_user_ratings_from_beer_html_soup(soup):\n",
        "    #in: string containing html file\n",
        "    #out: list of dicts of extracted properties:\n",
        "    #     {...}\n",
        "    the_div = soup.find(\"div\", {\"class\":\"panel panel-default hidden-xs\"})\n",
        "    ratings_element = the_div.find_all(\"div\", {\"class\":\"row pk-comments-item pk-comment-link\"})\n",
        "    results = []\n",
        "    for user_rating_element in ratings_element:\n",
        "        user_profile_link = user_rating_element.find_all(\"a\")[1].get('href')\n",
        "        username_element = user_rating_element.find(\"p\", {\"class\": \"username\"})\n",
        "        tmp = user_rating_element.find_all(\"div\", {\"class\":\"row pk-comments-bjcp-bar\"})\n",
        "        results.append({\n",
        "            'rating': len(user_rating_element.find_all(\"i\", {\"class\":\"fa fa-star fa-lg\"})),\n",
        "            'user': list(username_element.children)[0].strip(),\n",
        "            'date': username_element.find(\"sub\").text,\n",
        "            'user_id': user_profile_link.split('/')[-1],\n",
        "            'user_profile': user_profile_link,\n",
        "            'user_avatar_link': user_rating_element.find(\"img\").get(\"src\"),\n",
        "            'comment': user_rating_element.find(\"p\", {\"class\":\"content\"}).text.strip(),\n",
        "            'BJCP': {\n",
        "                x.find('p', {\"class\":\"title\"}).text:\n",
        "                x.find('p', {\"class\":\"rating\"}).text\n",
        "                for x in tmp\n",
        "                },\n",
        "        })\n",
        "    return results\n",
        "\n",
        "def extract_user_ratings_from_beer_html(html_content):\n",
        "    #in: string containing html file\n",
        "    #out: list of dicts of extracted properties:\n",
        "    #     {...}\n",
        "    soup = BeautifulSoup(html_content, 'html.parser')\n",
        "    return extract_user_ratings_from_beer_html_soup(soup)"
      ],
      "execution_count": 61,
      "outputs": []
    },
    {
      "cell_type": "code",
      "metadata": {
        "colab": {
          "base_uri": "https://localhost:8080/",
          "height": 167
        },
        "id": "vIlJiRBEW3fr",
        "outputId": "76fb28bf-084a-43ec-97e5-2b118847b1d8"
      },
      "source": [
        "pd.DataFrame(extract_user_ratings_from_beer_html(html_content))"
      ],
      "execution_count": 62,
      "outputs": [
        {
          "output_type": "execute_result",
          "data": {
            "text/html": [
              "<div>\n",
              "<style scoped>\n",
              "    .dataframe tbody tr th:only-of-type {\n",
              "        vertical-align: middle;\n",
              "    }\n",
              "\n",
              "    .dataframe tbody tr th {\n",
              "        vertical-align: top;\n",
              "    }\n",
              "\n",
              "    .dataframe thead th {\n",
              "        text-align: right;\n",
              "    }\n",
              "</style>\n",
              "<table border=\"1\" class=\"dataframe\">\n",
              "  <thead>\n",
              "    <tr style=\"text-align: right;\">\n",
              "      <th></th>\n",
              "      <th>rating</th>\n",
              "      <th>user</th>\n",
              "      <th>date</th>\n",
              "      <th>user_id</th>\n",
              "      <th>user_profile</th>\n",
              "      <th>user_avatar_link</th>\n",
              "      <th>comment</th>\n",
              "      <th>BJCP</th>\n",
              "    </tr>\n",
              "  </thead>\n",
              "  <tbody>\n",
              "    <tr>\n",
              "      <th>0</th>\n",
              "      <td>4</td>\n",
              "      <td>Grzegorz Marć</td>\n",
              "      <td>20/12/2017</td>\n",
              "      <td>5539</td>\n",
              "      <td>https://www.polskikraft.pl/profil/5539</td>\n",
              "      <td>https://lh4.googleusercontent.com/-H_P1fUtZ-XM...</td>\n",
              "      <td></td>\n",
              "      <td>{}</td>\n",
              "    </tr>\n",
              "    <tr>\n",
              "      <th>1</th>\n",
              "      <td>3</td>\n",
              "      <td>Łukasz Sławiński</td>\n",
              "      <td>02/01/2016</td>\n",
              "      <td>1332</td>\n",
              "      <td>https://www.polskikraft.pl/profil/1332</td>\n",
              "      <td>https://scontent.xx.fbcdn.net/v/t1.0-1/p200x20...</td>\n",
              "      <td></td>\n",
              "      <td>{}</td>\n",
              "    </tr>\n",
              "  </tbody>\n",
              "</table>\n",
              "</div>"
            ],
            "text/plain": [
              "   rating              user  ... comment BJCP\n",
              "0       4     Grzegorz Marć  ...           {}\n",
              "1       3  Łukasz Sławiński  ...           {}\n",
              "\n",
              "[2 rows x 8 columns]"
            ]
          },
          "metadata": {
            "tags": []
          },
          "execution_count": 62
        }
      ]
    },
    {
      "cell_type": "markdown",
      "metadata": {
        "id": "DU0U1mYQ_hEr"
      },
      "source": [
        "## Creating the dataset"
      ]
    },
    {
      "cell_type": "markdown",
      "metadata": {
        "id": "HXh8R6oHBdbj"
      },
      "source": [
        "### Beers"
      ]
    },
    {
      "cell_type": "code",
      "metadata": {
        "colab": {
          "base_uri": "https://localhost:8080/",
          "height": 49,
          "referenced_widgets": [
            "08696cf57c704af4bfd414323ce01d3d",
            "774fb930b267498baa47be29a7e1d178",
            "2af70db7fc1a45ce95ce198ed053afe7",
            "c5b27c5feca24bc484186a8eb877c670",
            "080e51d2bc284fb8b016d9fd56c1ad86",
            "a79d9f0665b54e42a0562989390825e1",
            "d76dbdb657f54aa49cceaee3e383db29",
            "5eca06ace8eb4abfbcee7a78f25d1708"
          ]
        },
        "id": "zGxvQcVMBkFo",
        "outputId": "9935ab37-0d78-4a17-9f9b-ef84a282e621"
      },
      "source": [
        "beers_metadata = []\n",
        "PK_ratings = []\n",
        "beer_network_according_to_PK = []\n",
        "bad_files = []\n",
        "\n",
        "for i in tqdm(range(1,9740+1)):\n",
        "    path = f'piwa/{i}.html'\n",
        "    with open(path, 'r') as f:\n",
        "        html_content = f.read()\n",
        "    try:\n",
        "        soup = BeautifulSoup(html_content, 'html.parser')\n",
        "        metadata = extract_beer_data_from_beer_html_soup(soup)\n",
        "        ratings = extract_user_ratings_from_beer_html_soup(soup)\n",
        "        similar_to = extract_similar_beers_from_beer_html_soup(soup)\n",
        "        edges = [(i,x['similar']) for x in similar_to]\n",
        "\n",
        "        # update data with beer id\n",
        "        metadata.update({'beer_id': i})\n",
        "        for r in ratings:\n",
        "            r.update({'beer_id': i})\n",
        "        beers_metadata.append(metadata)\n",
        "\n",
        "        # unpack specific features\n",
        "        mf = metadata.pop('features')\n",
        "        mdf = metadata.pop('descriptive_features')\n",
        "        metadata.update(mf)\n",
        "        metadata.update(mdf)\n",
        "        for r in ratings:\n",
        "            bjcp_features = r.pop('BJCP')\n",
        "            r.update(bjcp_features)\n",
        "\n",
        "        # append the entries\n",
        "        PK_ratings += ratings\n",
        "        beer_network_according_to_PK += edges\n",
        "    except:\n",
        "        bad_files.append(i)\n",
        "\n",
        "beers_metadata = pd.DataFrame(beers_metadata)\n",
        "PK_ratings = pd.DataFrame(PK_ratings)\n",
        "print('bad_files:', bad_files)"
      ],
      "execution_count": null,
      "outputs": [
        {
          "output_type": "display_data",
          "data": {
            "application/vnd.jupyter.widget-view+json": {
              "model_id": "08696cf57c704af4bfd414323ce01d3d",
              "version_minor": 0,
              "version_major": 2
            },
            "text/plain": [
              "HBox(children=(FloatProgress(value=0.0, max=9740.0), HTML(value='')))"
            ]
          },
          "metadata": {
            "tags": []
          }
        }
      ]
    },
    {
      "cell_type": "code",
      "metadata": {
        "id": "pD2wkBwvBuHn"
      },
      "source": [
        "beers_metadata.head()"
      ],
      "execution_count": null,
      "outputs": []
    },
    {
      "cell_type": "code",
      "metadata": {
        "id": "mQ5kqgwbD7Ve"
      },
      "source": [
        "PK_ratings.head()"
      ],
      "execution_count": null,
      "outputs": []
    },
    {
      "cell_type": "markdown",
      "metadata": {
        "id": "fRuekGSDKnvQ"
      },
      "source": [
        "save the results to a file"
      ]
    },
    {
      "cell_type": "code",
      "metadata": {
        "id": "g0IeozoLKnOm"
      },
      "source": [
        "beers_metadata.to_csv('beers_metadata.csv', index=False)"
      ],
      "execution_count": null,
      "outputs": []
    },
    {
      "cell_type": "code",
      "metadata": {
        "id": "QHSoVGIMKnGz"
      },
      "source": [
        "PK_ratings.to_csv('ratings.csv', index=False)"
      ],
      "execution_count": 86,
      "outputs": []
    },
    {
      "cell_type": "code",
      "metadata": {
        "id": "WMUvh7txD80O"
      },
      "source": [
        "with open('beer_network.csv', 'w') as f:\n",
        "    for x in beer_network_according_to_PK:\n",
        "        f.write(f\"{x[0]}, {x[1]}\\n\")"
      ],
      "execution_count": 87,
      "outputs": []
    },
    {
      "cell_type": "code",
      "metadata": {
        "id": "VKPXdkV_HDC3"
      },
      "source": [
        "!cp beers_metadata.csv ratings.csv beer_network.csv {dumpdir}"
      ],
      "execution_count": 88,
      "outputs": []
    },
    {
      "cell_type": "code",
      "metadata": {
        "id": "eZx5e9P9LfPT"
      },
      "source": [
        "!cp beers_metadata.csv ratings.csv beer_network.csv /content/drive/MyDrive/DANsem3/SR"
      ],
      "execution_count": 89,
      "outputs": []
    }
  ]
}