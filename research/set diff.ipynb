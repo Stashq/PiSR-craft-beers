{
 "cells": [
  {
   "cell_type": "code",
   "execution_count": 18,
   "id": "c0b43264",
   "metadata": {},
   "outputs": [
    {
     "data": {
      "application/vnd.jupyter.widget-view+json": {
       "model_id": "5db23aeda2264cd09d249afff372c933",
       "version_major": 2,
       "version_minor": 0
      },
      "text/plain": [
       "Building interaction matrix:   0%|          | 0/243264 [00:00<?, ?it/s]"
      ]
     },
     "metadata": {},
     "output_type": "display_data"
    }
   ],
   "source": [
    "import json\n",
    "from pathlib import Path\n",
    "import uvicorn\n",
    "import pandas as pd\n",
    "import torch\n",
    "from fastapi import FastAPI, HTTPException, Request\n",
    "from fastapi.middleware.cors import CORSMiddleware\n",
    "from pathlib import Path\n",
    "import torch\n",
    "import numpy as np\n",
    "from src.models import MLP\n",
    "from src.util import Data\n",
    "import os\n",
    "\n",
    "\n",
    "MODEL_PATH = Path(\"../model/mlp.pt\")\n",
    "BEER_PATH = Path(\"../data/beers_metadata.csv\")\n",
    "\n",
    "assert os.path.exists(MODEL_PATH)\n",
    "assert os.path.exists(BEER_PATH)\n",
    "\n",
    "app = FastAPI()\n",
    "beer_data = pd.read_csv(BEER_PATH)\n",
    "\n",
    "origins = [\"http://localhost\", \"http://localhost:8080\", \"http://localhost:5000/\"]\n",
    "\n",
    "app.add_middleware(\n",
    "    CORSMiddleware,\n",
    "    allow_origins=[\"*\"],\n",
    "    allow_credentials=True,\n",
    "    allow_methods=[\"*\"],\n",
    "    allow_headers=[\"*\"],\n",
    ")\n",
    "RATINGS_PATH = Path(\"../data/ratings.csv\")\n",
    "MODEL_PATH = Path(\"../model/mlp.pt\")\n",
    "\n",
    "assert os.path.exists(RATINGS_PATH)\n",
    "assert os.path.exists(MODEL_PATH)\n",
    "\n",
    "data = Data(RATINGS_PATH)\n",
    "\n",
    "device = torch.device(\n",
    "            'cuda' if torch.cuda.is_available() else 'cpu'\n",
    "        )\n",
    "\n",
    "\n",
    "user_encoder = data.user_encoder\n",
    "beer_encoder = data.beer_encoder\n",
    "#model = DummyModel()\n",
    "model = MLP(\n",
    "    user_dim=data.user_count,\n",
    "    beer_dim=data.beer_count,\n",
    "    n_factors=10,\n",
    "    n_layers=0,\n",
    "    interactions=data.train_interactions,\n",
    "    user_encoder=data.user_encoder,\n",
    "    beer_encoder=data.beer_encoder,\n",
    "    max_rating=data.max_rating,\n",
    "    learning_rate=1e-3,\n",
    "    weight_decay=1e-6\n",
    ")\n",
    "model.load_state_dict(torch.load(MODEL_PATH))\n",
    "model=model.to(device)\n",
    "model.eval()\n",
    "\n",
    "\n",
    "ratings = pd.read_csv(RATINGS_PATH)\n",
    "\n",
    "popular_beer= ratings.groupby(\"beer_id\",as_index=False).count()\n",
    "beer_data= beer_data.join(popular_beer,on=\"beer_id\",rsuffix=\"count_\")\n",
    "\n"
   ]
  },
  {
   "cell_type": "code",
   "execution_count": 2,
   "id": "8c82b2d7",
   "metadata": {},
   "outputs": [],
   "source": [
    "import matplotlib.pyplot as plt"
   ]
  },
  {
   "cell_type": "code",
   "execution_count": 11,
   "id": "c0d03314",
   "metadata": {},
   "outputs": [
    {
     "name": "stdout",
     "output_type": "stream",
     "text": [
      "ile piw 9153\n",
      "wypił 1587\n",
      "9153\n",
      "wyjscie z modelu [3229 9208 8995 ... 3802 3591 5753] [4.84825909 4.84308898 4.82464939 ... 1.32259831 1.17566176 1.17345624]\n"
     ]
    }
   ],
   "source": [
    "beers_1 = np.array(model.predict(2201))"
   ]
  },
  {
   "cell_type": "code",
   "execution_count": 12,
   "id": "18b8efc0",
   "metadata": {},
   "outputs": [
    {
     "name": "stdout",
     "output_type": "stream",
     "text": [
      "ile piw 9153\n",
      "wypił 1358\n",
      "9153\n",
      "wyjscie z modelu [3229 9208 8995 ... 3802 3591 5753] [4.88875955 4.88493681 4.87128377 ... 1.37434334 1.22357115 1.22130431]\n"
     ]
    }
   ],
   "source": [
    "beers_2 = np.array(model.predict(12447))"
   ]
  },
  {
   "cell_type": "code",
   "execution_count": 13,
   "id": "4c392ca9",
   "metadata": {},
   "outputs": [
    {
     "data": {
      "text/plain": [
       "<matplotlib.collections.PathCollection at 0x1e5cb0f0190>"
      ]
     },
     "execution_count": 13,
     "metadata": {},
     "output_type": "execute_result"
    },
    {
     "data": {
      "image/png": "[encoded data removed]",
      "text/plain": [
       "<Figure size 432x288 with 1 Axes>"
      ]
     },
     "metadata": {
      "needs_background": "light"
     },
     "output_type": "display_data"
    }
   ],
   "source": [
    "plt.scatter(beers_1,beer_2)"
   ]
  },
  {
   "cell_type": "code",
   "execution_count": 15,
   "id": "3780d445",
   "metadata": {},
   "outputs": [],
   "source": [
    "x=(beers_1 == beers_2)"
   ]
  },
  {
   "cell_type": "code",
   "execution_count": 17,
   "id": "7cfdce12",
   "metadata": {},
   "outputs": [
    {
     "data": {
      "text/plain": [
       "[<matplotlib.lines.Line2D at 0x1e5d0dba9a0>]"
      ]
     },
     "execution_count": 17,
     "metadata": {},
     "output_type": "execute_result"
    },
    {
     "data": {
      "image/png": "[encoded data removed]",
      "text/plain": [
       "<Figure size 432x288 with 1 Axes>"
      ]
     },
     "metadata": {
      "needs_background": "light"
     },
     "output_type": "display_data"
    }
   ],
   "source": [
    "plt.plot(x)"
   ]
  },
  {
   "cell_type": "code",
   "execution_count": 52,
   "id": "c15389c3",
   "metadata": {},
   "outputs": [],
   "source": [
    "@torch.no_grad()\n",
    "def predict_ratings(model, user_id: int) -> Tuple[np.ndarray, np.ndarray]:\n",
    "    user_id = model.user_encoder.transform([user_id])[0]\n",
    "\n",
    "    beers = set(range(model.beer_encoder.classes_.size))\n",
    "    print(\"ilosc piw\",len(beers))\n",
    "    beers_drinked = model.interactions[user_id].nonzero()\n",
    "    print(\"ilosc piw drunk\", len(beers_drinked))\n",
    "    if len(beers_drinked):\n",
    "        beers_drinked = set(beers_drinked.flatten().numpy())\n",
    "    else:\n",
    "        beers_drinked = set()\n",
    "    print(beers_drinked)\n",
    "    print(\"should be\", len(beers)-len(beers_drinked))\n",
    "    beers = beers.difference(beers_drinked)\n",
    "    beers = list(beers)\n",
    "    print(\"after\",len(beers))\n",
    "\n",
    "    beers = torch.LongTensor(beers).to(model.predict_device)\n",
    "    user = torch.LongTensor([user_id] * len(beers)).to(model.predict_device)\n",
    "\n",
    "    ratings = model.forward(user, beers)\n",
    "    ratings = ratings.cpu().numpy()\n",
    "    beers = beers.cpu().numpy()\n",
    "\n",
    "    ranking = pd.DataFrame(zip(beers, ratings), columns=[\"beer\", \"rating\"])\n",
    "    ranking = ranking.sort_values(by=\"rating\", ascending=False)\n",
    "\n",
    "    beers = ranking.beer.values\n",
    "    ratings = ranking.rating.values\n",
    "\n",
    "    beers = model.beer_encoder.inverse_transform(beers)\n",
    "    ratings *= model.MAX_RATING\n",
    "    # ratings = self.rating_encoder.inverse_transform(ratings)\n",
    "    print(\"wyjscie z modelu\",beers,ratings)\n",
    "    return beers, ratings"
   ]
  },
  {
   "cell_type": "code",
   "execution_count": 53,
   "id": "d9315d2d",
   "metadata": {},
   "outputs": [],
   "source": [
    "from abc import abstractmethod\n",
    "from typing import List, Tuple\n",
    "\n",
    "import numpy as np\n",
    "import pandas as pd\n",
    "import torch\n",
    "import torch.nn.functional as F\n",
    "from pytorch_lightning import LightningModule\n",
    "from sklearn.preprocessing import LabelEncoder\n",
    "\n",
    "from src.models.recommender import Recommender"
   ]
  },
  {
   "cell_type": "code",
   "execution_count": 54,
   "id": "2e57f195",
   "metadata": {},
   "outputs": [
    {
     "name": "stdout",
     "output_type": "stream",
     "text": [
      "ilosc piw 9153\n",
      "ilosc piw drunk 1587\n",
      "{0, 8193, 3, 6, 8204, 14, 15, 16, 8211, 22, 24, 8217, 29, 30, 32, 34, 8226, 36, 8227, 38, 40, 43, 46, 47, 54, 8248, 8250, 8253, 64, 8256, 67, 8260, 69, 70, 71, 72, 81, 8276, 85, 8277, 8280, 89, 93, 8288, 98, 99, 100, 101, 102, 8294, 8297, 8300, 8301, 8302, 111, 112, 8305, 8314, 124, 130, 132, 133, 135, 136, 138, 8339, 8340, 153, 8346, 8348, 8349, 158, 160, 161, 8354, 163, 164, 165, 8356, 167, 168, 169, 175, 8372, 182, 8374, 184, 8381, 190, 200, 201, 8393, 8395, 204, 8396, 207, 8400, 209, 212, 214, 216, 221, 222, 8419, 8420, 231, 232, 233, 8424, 235, 236, 8425, 238, 8429, 8435, 8436, 8438, 8441, 252, 257, 8449, 8451, 8455, 8456, 8457, 8459, 8460, 8463, 8464, 8465, 275, 276, 8467, 8468, 279, 280, 8469, 285, 286, 8477, 294, 295, 296, 8486, 8488, 8489, 301, 302, 303, 8497, 306, 8499, 308, 310, 8505, 315, 8510, 8516, 326, 8518, 8522, 8524, 8528, 8530, 339, 343, 8535, 8537, 8538, 8539, 349, 8542, 353, 8546, 8551, 365, 366, 8557, 8558, 8562, 8564, 374, 8567, 8569, 8571, 8573, 385, 8578, 8579, 8580, 390, 8591, 400, 8594, 8595, 8596, 8600, 8601, 412, 8605, 8606, 8607, 416, 8610, 8617, 426, 428, 8620, 8623, 437, 438, 8632, 441, 443, 444, 445, 8644, 453, 454, 8645, 8646, 8647, 458, 459, 8648, 8649, 462, 8651, 465, 8657, 469, 470, 8662, 8665, 477, 8674, 8675, 8676, 8683, 8687, 496, 8690, 8692, 502, 503, 504, 505, 8697, 8703, 514, 8706, 8709, 8711, 8715, 8716, 529, 530, 534, 8726, 539, 541, 542, 8733, 545, 546, 8737, 8739, 549, 8745, 554, 555, 8746, 8747, 8751, 560, 561, 562, 8756, 8757, 567, 8761, 570, 8762, 8763, 8764, 574, 8765, 8766, 577, 8770, 582, 8774, 8778, 8779, 8780, 8781, 8783, 8784, 593, 596, 8788, 8794, 603, 8796, 8799, 609, 610, 8801, 8803, 613, 8804, 615, 8806, 8809, 8810, 619, 620, 8811, 8812, 8816, 8827, 639, 641, 8834, 644, 646, 647, 8838, 650, 8843, 8845, 8847, 8848, 8851, 8852, 8854, 8855, 665, 8857, 8858, 8859, 669, 671, 672, 674, 675, 680, 681, 8872, 8873, 684, 8876, 689, 8881, 691, 692, 8885, 8886, 8888, 699, 700, 702, 703, 8898, 707, 8899, 8900, 711, 8903, 715, 717, 718, 8909, 8912, 8914, 724, 725, 8918, 8919, 730, 8928, 8930, 8933, 742, 743, 748, 8940, 750, 751, 8943, 8948, 8951, 763, 8956, 765, 8958, 767, 8961, 8964, 774, 776, 778, 8971, 781, 8975, 784, 8976, 786, 8977, 8978, 8982, 8983, 796, 799, 8992, 803, 8996, 805, 8997, 807, 8998, 810, 9002, 9003, 9007, 817, 9009, 825, 9019, 832, 9024, 9025, 840, 9034, 843, 9039, 848, 9040, 9041, 9045, 854, 856, 9051, 9052, 9057, 9060, 9061, 9063, 9064, 9065, 9066, 877, 9070, 879, 9072, 9073, 882, 883, 9078, 891, 9085, 9086, 9089, 9091, 9093, 9095, 9098, 913, 9108, 9112, 9120, 9121, 9123, 934, 9126, 9128, 938, 9136, 9137, 950, 9143, 9144, 954, 9146, 956, 9147, 9149, 959, 960, 9152, 965, 969, 970, 972, 973, 974, 975, 976, 983, 988, 997, 999, 1000, 1004, 1013, 1020, 1022, 1023, 1027, 1028, 1031, 1056, 1101, 1110, 1111, 1113, 1114, 1134, 1135, 1143, 1144, 1147, 1154, 1157, 1160, 1165, 1169, 1170, 1174, 1180, 1182, 1185, 1186, 1188, 1197, 1198, 1202, 1203, 1207, 1208, 1215, 1219, 1228, 1230, 1233, 1239, 1248, 1249, 1251, 1252, 1254, 1256, 1266, 1267, 1273, 1275, 1293, 1299, 1300, 1310, 1313, 1325, 1328, 1331, 1334, 1336, 1350, 1351, 1352, 1353, 1354, 1359, 1360, 1362, 1365, 1370, 1380, 1382, 1385, 1388, 1390, 1397, 1400, 1409, 1413, 1415, 1416, 1417, 1427, 1453, 1481, 1491, 1523, 1526, 1533, 1534, 1537, 1551, 1553, 1555, 1557, 1558, 1561, 1565, 1573, 1585, 1591, 1605, 1612, 1613, 1616, 1626, 1652, 1653, 1675, 1682, 1695, 1696, 1703, 1718, 1727, 1733, 1735, 1739, 1744, 1761, 1782, 1793, 1796, 1799, 1809, 1812, 1817, 1822, 1829, 1835, 1840, 1841, 1842, 1852, 1855, 1869, 1871, 1872, 1888, 1897, 1903, 1905, 1906, 1914, 1919, 1920, 1938, 1939, 1940, 1944, 1945, 1947, 1948, 1954, 1957, 1970, 1989, 1991, 1993, 1995, 1998, 2022, 2031, 2032, 2035, 2050, 2056, 2058, 2097, 2115, 2126, 2128, 2133, 2138, 2148, 2161, 2201, 2202, 2203, 2206, 2207, 2209, 2218, 2219, 2236, 2238, 2252, 2253, 2258, 2260, 2261, 2265, 2270, 2286, 2287, 2292, 2296, 2297, 2312, 2328, 2337, 2342, 2343, 2345, 2346, 2350, 2351, 2357, 2358, 2359, 2365, 2367, 2375, 2377, 2379, 2387, 2407, 2411, 2412, 2414, 2415, 2428, 2448, 2449, 2462, 2469, 2477, 2478, 2492, 2493, 2506, 2508, 2510, 2513, 2514, 2520, 2521, 2525, 2528, 2530, 2532, 2535, 2545, 2547, 2551, 2559, 2561, 2577, 2581, 2582, 2595, 2601, 2603, 2604, 2605, 2607, 2612, 2617, 2618, 2645, 2653, 2655, 2656, 2657, 2658, 2675, 2677, 2687, 2689, 2690, 2701, 2706, 2720, 2722, 2726, 2727, 2729, 2730, 2733, 2734, 2745, 2746, 2759, 2767, 2768, 2781, 2794, 2795, 2800, 2802, 2805, 2807, 2813, 2821, 2823, 2824, 2826, 2829, 2831, 2832, 2835, 2836, 2845, 2847, 2849, 2869, 2874, 2875, 2878, 2882, 2884, 2888, 2890, 2922, 2930, 2938, 2942, 2946, 2948, 2952, 2973, 2981, 2987, 2992, 2993, 3010, 3011, 3031, 3043, 3062, 3068, 3079, 3080, 3094, 3095, 3103, 3115, 3146, 3147, 3153, 3180, 3221, 3256, 3258, 3259, 3268, 3279, 3283, 3298, 3318, 3323, 3328, 3350, 3359, 3383, 3387, 3388, 3391, 3396, 3397, 3401, 3406, 3422, 3434, 3436, 3450, 3451, 3462, 3469, 3470, 3471, 3491, 3493, 3495, 3529, 3544, 3569, 3578, 3582, 3595, 3616, 3617, 3631, 3643, 3648, 3653, 3661, 3673, 3696, 3699, 3706, 3715, 3722, 3740, 3742, 3743, 3744, 3748, 3755, 3762, 3776, 3785, 3787, 3790, 3796, 3797, 3798, 3799, 3804, 3807, 3808, 3810, 3821, 3832, 3837, 3839, 3843, 3847, 3848, 3849, 3850, 3853, 3856, 3863, 3869, 3887, 3904, 3918, 3920, 3929, 3934, 3938, 3943, 3949, 3956, 3959, 3965, 3971, 3974, 3978, 3983, 3989, 3991, 4015, 4018, 4021, 4027, 4038, 4047, 4051, 4053, 4057, 4059, 4060, 4064, 4066, 4076, 4084, 4104, 4105, 4107, 4110, 4118, 4119, 4121, 4134, 4150, 4151, 4152, 4153, 4154, 4179, 4183, 4185, 4201, 4215, 4220, 4221, 4233, 4234, 4235, 4248, 4254, 4264, 4266, 4268, 4269, 4270, 4289, 4292, 4305, 4307, 4315, 4316, 4317, 4320, 4321, 4335, 4358, 4367, 4368, 4378, 4389, 4394, 4396, 4419, 4422, 4423, 4427, 4429, 4434, 4466, 4473, 4480, 4485, 4488, 4489, 4492, 4497, 4503, 4507, 4508, 4509, 4512, 4528, 4529, 4531, 4536, 4541, 4547, 4551, 4552, 4565, 4568, 4578, 4582, 4589, 4591, 4605, 4612, 4624, 4632, 4633, 4651, 4654, 4655, 4656, 4666, 4667, 4668, 4673, 4675, 4695, 4700, 4701, 4705, 4719, 4722, 4724, 4725, 4727, 4731, 4732, 4772, 4775, 4782, 4794, 4817, 4820, 4824, 4831, 4836, 4837, 4844, 4849, 4861, 4866, 4867, 4869, 4873, 4879, 4901, 4906, 4914, 4929, 4937, 4954, 4955, 4959, 4970, 4977, 4985, 4998, 4999, 5001, 5003, 5006, 5020, 5039, 5040, 5048, 5054, 5077, 5079, 5101, 5109, 5111, 5114, 5136, 5139, 5164, 5167, 5174, 5176, 5188, 5213, 5216, 5227, 5231, 5237, 5249, 5253, 5258, 5262, 5264, 5268, 5308, 5309, 5313, 5334, 5340, 5344, 5358, 5374, 5411, 5413, 5424, 5425, 5426, 5438, 5443, 5457, 5465, 5471, 5492, 5498, 5518, 5520, 5534, 5535, 5536, 5540, 5541, 5560, 5565, 5589, 5607, 5621, 5623, 5627, 5628, 5654, 5656, 5659, 5660, 5664, 5671, 5672, 5680, 5682, 5692, 5700, 5704, 5705, 5706, 5736, 5737, 5751, 5752, 5761, 5771, 5772, 5774, 5783, 5784, 5787, 5792, 5798, 5802, 5807, 5819, 5820, 5849, 5853, 5857, 5858, 5873, 5876, 5886, 5890, 5900, 5901, 5910, 5914, 5915, 5941, 5952, 5955, 5959, 5962, 5975, 5980, 5994, 5999, 6001, 6020, 6023, 6026, 6027, 6034, 6051, 6053, 6055, 6057, 6058, 6066, 6068, 6072, 6076, 6088, 6090, 6091, 6093, 6094, 6095, 6097, 6098, 6100, 6102, 6103, 6106, 6109, 6110, 6111, 6112, 6121, 6125, 6126, 6133, 6138, 6144, 6146, 6157, 6159, 6161, 6162, 6168, 6174, 6175, 6186, 6187, 6188, 6189, 6190, 6191, 6196, 6197, 6198, 6206, 6210, 6211, 6213, 6226, 6228, 6231, 6236, 6238, 6242, 6243, 6258, 6269, 6271, 6278, 6279, 6280, 6296, 6306, 6309, 6314, 6318, 6320, 6322, 6323, 6329, 6336, 6343, 6370, 6371, 6372, 6373, 6391, 6395, 6397, 6398, 6411, 6412, 6413, 6415, 6420, 6428, 6432, 6433, 6434, 6435, 6442, 6462, 6464, 6467, 6472, 6474, 6476, 6480, 6497, 6502, 6518, 6557, 6575, 6595, 6601, 6610, 6612, 6617, 6636, 6641, 6645, 6654, 6682, 6692, 6709, 6711, 6712, 6714, 6719, 6737, 6741, 6753, 6754, 6761, 6763, 6765, 6766, 6769, 6773, 6778, 6779, 6785, 6795, 6797, 6814, 6816, 6834, 6836, 6843, 6855, 6858, 6872, 6874, 6881, 6884, 6897, 6905, 6906, 6909, 6915, 6916, 6955, 6956, 6971, 6976, 6983, 6985, 6989, 7000, 7016, 7020, 7031, 7034, 7038, 7044, 7047, 7058, 7060, 7063, 7077, 7081, 7085, 7086, 7088, 7092, 7118, 7123, 7125, 7128, 7132, 7135, 7150, 7165, 7169, 7171, 7177, 7184, 7186, 7190, 7203, 7224, 7228, 7230, 7236, 7265, 7267, 7274, 7288, 7293, 7299, 7303, 7321, 7328, 7331, 7333, 7386, 7390, 7396, 7397, 7398, 7416, 7422, 7430, 7432, 7439, 7451, 7453, 7455, 7465, 7476, 7513, 7515, 7516, 7519, 7526, 7527, 7537, 7539, 7542, 7549, 7555, 7556, 7558, 7559, 7560, 7576, 7578, 7583, 7584, 7588, 7590, 7591, 7602, 7604, 7608, 7609, 7610, 7612, 7619, 7620, 7624, 7632, 7642, 7643, 7644, 7645, 7647, 7648, 7656, 7674, 7677, 7680, 7681, 7682, 7688, 7705, 7710, 7711, 7712, 7714, 7715, 7716, 7759, 7760, 7762, 7764, 7781, 7782, 7786, 7790, 7796, 7800, 7802, 7818, 7821, 7824, 7828, 7829, 7834, 7844, 7847, 7851, 7853, 7854, 7864, 7871, 7876, 7881, 7885, 7887, 7892, 7903, 7910, 7912, 7914, 7925, 7930, 7932, 7934, 7936, 7937, 7970, 7978, 7981, 7982, 7983, 7985, 7989, 7990, 7992, 7993, 7994, 7996, 8001, 8003, 8005, 8022, 8025, 8030, 8032, 8043, 8045, 8046, 8048, 8055, 8096, 8100, 8107, 8111, 8112, 8115, 8116, 8120, 8121, 8126, 8131, 8136, 8139, 8145, 8149, 8152, 8160, 8171, 8179, 8184, 8185, 8186}\n",
      "should be 7566\n",
      "after 7566\n",
      "wyjscie z modelu [3229 5762 9553 ... 3802 3591 5753] [4.84825909 4.82141525 4.81604874 ... 1.32259831 1.17566176 1.17345624]\n"
     ]
    },
    {
     "data": {
      "text/plain": [
       "(array([3229, 5762, 9553, ..., 3802, 3591, 5753], dtype=int64),\n",
       " array([4.84825909, 4.82141525, 4.81604874, ..., 1.32259831, 1.17566176,\n",
       "        1.17345624]))"
      ]
     },
     "execution_count": 54,
     "metadata": {},
     "output_type": "execute_result"
    }
   ],
   "source": [
    "predict_ratings(model,2201)"
   ]
  },
  {
   "cell_type": "code",
   "execution_count": null,
   "id": "38b9fc82",
   "metadata": {},
   "outputs": [],
   "source": []
  }
 ],
 "metadata": {
  "kernelspec": {
   "display_name": "Python 3",
   "language": "python",
   "name": "python3"
  },
  "language_info": {
   "codemirror_mode": {
    "name": "ipython",
    "version": 3
   },
   "file_extension": ".py",
   "mimetype": "text/x-python",
   "name": "python",
   "nbconvert_exporter": "python",
   "pygments_lexer": "ipython3",
   "version": "3.9.5"
  }
 },
 "nbformat": 4,
 "nbformat_minor": 5
}
