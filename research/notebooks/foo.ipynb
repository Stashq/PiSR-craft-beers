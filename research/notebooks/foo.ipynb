{
 "metadata": {
  "language_info": {
   "codemirror_mode": {
    "name": "ipython",
    "version": 3
   },
   "file_extension": ".py",
   "mimetype": "text/x-python",
   "name": "python",
   "nbconvert_exporter": "python",
   "pygments_lexer": "ipython3",
   "version": "3.7.8"
  },
  "orig_nbformat": 2,
  "kernelspec": {
   "name": "python378jvsc74a57bd0c8507849a7cf2b70ae858d46394e1226c3d8a645b5136a72b276dc6fab33b946",
   "display_name": "Python 3.7.8 64-bit ('env')"
  },
  "metadata": {
   "interpreter": {
    "hash": "c8507849a7cf2b70ae858d46394e1226c3d8a645b5136a72b276dc6fab33b946"
   }
  }
 },
 "nbformat": 4,
 "nbformat_minor": 2,
 "cells": [
  {
   "cell_type": "code",
   "execution_count": 9,
   "metadata": {
    "tags": []
   },
   "outputs": [
    {
     "output_type": "stream",
     "name": "stdout",
     "text": [
      "The autoreload extension is already loaded. To reload it, use:\n  %reload_ext autoreload\n"
     ]
    }
   ],
   "source": [
    "%load_ext autoreload\n",
    "%autoreload 2\n",
    "\n",
    "import sys; sys.path.append(\"../../\")\n",
    "\n",
    "from pathlib import Path\n",
    "import pandas as pd\n",
    "\n",
    "RATINGS_PATH = Path(\"../../data/ratings.csv\")"
   ]
  },
  {
   "cell_type": "code",
   "execution_count": 10,
   "metadata": {},
   "outputs": [],
   "source": [
    "ratings = pd.read_csv(RATINGS_PATH)"
   ]
  },
  {
   "cell_type": "code",
   "execution_count": 11,
   "metadata": {},
   "outputs": [
    {
     "output_type": "execute_result",
     "data": {
      "text/plain": [
       "   rating                  user        date  user_id  \\\n",
       "0       4     Piwnypolitolog.pl  02/03/2016     1147   \n",
       "1       5           mojepiwa.pl  18/05/2016     1967   \n",
       "2       5         Chmielokracja  20/09/2015      229   \n",
       "3       3        Damian Popiela  27/02/2021    28165   \n",
       "4       4  Mateusz Mioduszewski  10/02/2021    26727   \n",
       "\n",
       "                              user_profile  \\\n",
       "0   https://www.polskikraft.pl/profil/1147   \n",
       "1   https://www.polskikraft.pl/profil/1967   \n",
       "2    https://www.polskikraft.pl/profil/229   \n",
       "3  https://www.polskikraft.pl/profil/28165   \n",
       "4  https://www.polskikraft.pl/profil/26727   \n",
       "\n",
       "                                    user_avatar_link  \\\n",
       "0  https://graph.facebook.com/v2.5/10561137277617...   \n",
       "1  https://platform-lookaside.fbsbx.com/platform/...   \n",
       "2  https://graph.facebook.com/v2.5/99666886371456...   \n",
       "3  https://platform-lookaside.fbsbx.com/platform/...   \n",
       "4  https://graph.facebook.com/v2.5/32551460645640...   \n",
       "\n",
       "                                             comment  beer_id AROMAT WYGLĄD  \\\n",
       "0  Ocena nieco uśredniona, bo różne warki się tra...        1   9/12    3/3   \n",
       "1  Powrót do klasyka, którego ma się w pamięci ja...        1    NaN    NaN   \n",
       "2                                                NaN        1    NaN    NaN   \n",
       "3                                                NaN        1    NaN    NaN   \n",
       "4                                                NaN        1    NaN    NaN   \n",
       "\n",
       "    SMAK ODCZUCIE W USTACH OGÓLNE WRAŻENIE  \n",
       "0  14/20               4/5            7/10  \n",
       "1    NaN               NaN             NaN  \n",
       "2    NaN               NaN             NaN  \n",
       "3    NaN               NaN             NaN  \n",
       "4    NaN               NaN             NaN  "
      ],
      "text/html": "<div>\n<style scoped>\n    .dataframe tbody tr th:only-of-type {\n        vertical-align: middle;\n    }\n\n    .dataframe tbody tr th {\n        vertical-align: top;\n    }\n\n    .dataframe thead th {\n        text-align: right;\n    }\n</style>\n<table border=\"1\" class=\"dataframe\">\n  <thead>\n    <tr style=\"text-align: right;\">\n      <th></th>\n      <th>rating</th>\n      <th>user</th>\n      <th>date</th>\n      <th>user_id</th>\n      <th>user_profile</th>\n      <th>user_avatar_link</th>\n      <th>comment</th>\n      <th>beer_id</th>\n      <th>AROMAT</th>\n      <th>WYGLĄD</th>\n      <th>SMAK</th>\n      <th>ODCZUCIE W USTACH</th>\n      <th>OGÓLNE WRAŻENIE</th>\n    </tr>\n  </thead>\n  <tbody>\n    <tr>\n      <th>0</th>\n      <td>4</td>\n      <td>Piwnypolitolog.pl</td>\n      <td>02/03/2016</td>\n      <td>1147</td>\n      <td>https://www.polskikraft.pl/profil/1147</td>\n      <td>https://graph.facebook.com/v2.5/10561137277617...</td>\n      <td>Ocena nieco uśredniona, bo różne warki się tra...</td>\n      <td>1</td>\n      <td>9/12</td>\n      <td>3/3</td>\n      <td>14/20</td>\n      <td>4/5</td>\n      <td>7/10</td>\n    </tr>\n    <tr>\n      <th>1</th>\n      <td>5</td>\n      <td>mojepiwa.pl</td>\n      <td>18/05/2016</td>\n      <td>1967</td>\n      <td>https://www.polskikraft.pl/profil/1967</td>\n      <td>https://platform-lookaside.fbsbx.com/platform/...</td>\n      <td>Powrót do klasyka, którego ma się w pamięci ja...</td>\n      <td>1</td>\n      <td>NaN</td>\n      <td>NaN</td>\n      <td>NaN</td>\n      <td>NaN</td>\n      <td>NaN</td>\n    </tr>\n    <tr>\n      <th>2</th>\n      <td>5</td>\n      <td>Chmielokracja</td>\n      <td>20/09/2015</td>\n      <td>229</td>\n      <td>https://www.polskikraft.pl/profil/229</td>\n      <td>https://graph.facebook.com/v2.5/99666886371456...</td>\n      <td>NaN</td>\n      <td>1</td>\n      <td>NaN</td>\n      <td>NaN</td>\n      <td>NaN</td>\n      <td>NaN</td>\n      <td>NaN</td>\n    </tr>\n    <tr>\n      <th>3</th>\n      <td>3</td>\n      <td>Damian Popiela</td>\n      <td>27/02/2021</td>\n      <td>28165</td>\n      <td>https://www.polskikraft.pl/profil/28165</td>\n      <td>https://platform-lookaside.fbsbx.com/platform/...</td>\n      <td>NaN</td>\n      <td>1</td>\n      <td>NaN</td>\n      <td>NaN</td>\n      <td>NaN</td>\n      <td>NaN</td>\n      <td>NaN</td>\n    </tr>\n    <tr>\n      <th>4</th>\n      <td>4</td>\n      <td>Mateusz Mioduszewski</td>\n      <td>10/02/2021</td>\n      <td>26727</td>\n      <td>https://www.polskikraft.pl/profil/26727</td>\n      <td>https://graph.facebook.com/v2.5/32551460645640...</td>\n      <td>NaN</td>\n      <td>1</td>\n      <td>NaN</td>\n      <td>NaN</td>\n      <td>NaN</td>\n      <td>NaN</td>\n      <td>NaN</td>\n    </tr>\n  </tbody>\n</table>\n</div>"
     },
     "metadata": {},
     "execution_count": 11
    }
   ],
   "source": [
    "ratings.head()"
   ]
  },
  {
   "cell_type": "code",
   "execution_count": 12,
   "metadata": {},
   "outputs": [],
   "source": [
    "import numpy as np"
   ]
  },
  {
   "cell_type": "code",
   "execution_count": 13,
   "metadata": {},
   "outputs": [],
   "source": [
    "beers, counts = np.unique(ratings[\"beer_id\"].values, return_counts=True)\n",
    "single_beers = set(beers[counts == 1])"
   ]
  },
  {
   "cell_type": "code",
   "execution_count": 14,
   "metadata": {},
   "outputs": [
    {
     "output_type": "execute_result",
     "data": {
      "text/plain": [
       "9153"
      ]
     },
     "metadata": {},
     "execution_count": 14
    }
   ],
   "source": [
    "len(single_beers)\n",
    "len(beers)"
   ]
  },
  {
   "cell_type": "code",
   "execution_count": 15,
   "metadata": {},
   "outputs": [
    {
     "output_type": "execute_result",
     "data": {
      "text/plain": [
       "1"
      ]
     },
     "metadata": {},
     "execution_count": 15
    }
   ],
   "source": [
    "min(ratings.rating.values)"
   ]
  },
  {
   "cell_type": "code",
   "execution_count": null,
   "metadata": {},
   "outputs": [],
   "source": []
  }
 ]
}