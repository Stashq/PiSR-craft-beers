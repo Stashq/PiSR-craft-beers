{
 "metadata": {
  "language_info": {
   "codemirror_mode": {
    "name": "ipython",
    "version": 3
   },
   "file_extension": ".py",
   "mimetype": "text/x-python",
   "name": "python",
   "nbconvert_exporter": "python",
   "pygments_lexer": "ipython3",
   "version": "3.7.8"
  },
  "orig_nbformat": 2,
  "kernelspec": {
   "name": "python378jvsc74a57bd0c8507849a7cf2b70ae858d46394e1226c3d8a645b5136a72b276dc6fab33b946",
   "display_name": "Python 3.7.8 64-bit ('env')"
  }
 },
 "nbformat": 4,
 "nbformat_minor": 2,
 "cells": [
  {
   "cell_type": "code",
   "execution_count": null,
   "metadata": {},
   "outputs": [],
   "source": [
    "%load_ext autoreload\n",
    "%autoreload 2\n",
    "\n",
    "import sys; sys.path.append(\"../../\")\n",
    "\n",
    "from pathlib import Path\n",
    "\n",
    "import pandas as pd\n",
    "import plotly.express as px\n",
    "import plotly.io as pio\n",
    "import torch\n",
    "from pytorch_lightning import Trainer\n",
    "from pytorch_lightning.callbacks.early_stopping import EarlyStopping\n",
    "from pytorch_lightning.utilities.seed import seed_everything\n",
    "\n",
    "from src.models import MatrixFactorization2\n",
    "from src.util import Data, metrics\n",
    "\n",
    "\n",
    "seed_everything(42)\n",
    "\n",
    "\n",
    "pio.renderers.default = \"notebook\"\n",
    "RATINGS_PATH = Path(\"../../../data/ratings.csv\")\n",
    "OUTPUT_PATH = Path(\"../../models/mf.pt\")\n",
    "\n",
    "OUTPUT_PATH.parent.mkdir(parents=True, exist_ok=True)"
   ]
  },
  {
   "cell_type": "code",
   "execution_count": null,
   "metadata": {},
   "outputs": [],
   "source": [
    "data = Data(RATINGS_PATH)\n",
    "\n",
    "train_loader = data.get_train_loader(batch_size=20_000)\n",
    "val_loader = data.get_val_loader(batch_size=20_000)\n",
    "test_loader = data.get_test_loader(batch_size=20_000)"
   ]
  },
  {
   "cell_type": "code",
   "execution_count": null,
   "metadata": {},
   "outputs": [],
   "source": [
    "model = MatrixFactorization2(\n",
    "    user_dim=data.user_count,\n",
    "    beer_dim=data.beer_count,\n",
    "    n_factors=10,\n",
    "    embedding_rescaler=0.01,\n",
    "    use_mlp=False,\n",
    "    interactions=data.train_interactions,\n",
    "    user_encoder=data.user_encoder,\n",
    "    beer_encoder=data.beer_encoder,\n",
    "    max_rating=data.max_rating,\n",
    "    learning_rate=2e-3,\n",
    "    weight_decay=1e-6\n",
    ")\n",
    "\n",
    "early_stop_callback = EarlyStopping(\n",
    "   monitor=\"val/rmse\",\n",
    "   min_delta=0.000,\n",
    "   patience=3,\n",
    "   verbose=False,\n",
    "   mode=\"min\"\n",
    ")\n",
    "\n",
    "trainer = Trainer(\n",
    "    max_epochs=50,\n",
    "    gpus=1,\n",
    "    progress_bar_refresh_rate=50,\n",
    "    # callbacks=[early_stop_callback]\n",
    "    # auto_scale_batch_size=True\n",
    ")"
   ]
  },
  {
   "cell_type": "code",
   "execution_count": null,
   "metadata": {},
   "outputs": [],
   "source": [
    "trainer.fit(model, train_loader, val_loader)\n",
    "model.eval()\n",
    "torch.save(model, OUTPUT_PATH)"
   ]
  },
  {
   "cell_type": "code",
   "execution_count": null,
   "metadata": {},
   "outputs": [],
   "source": [
    "# model.set_predict_device()\n",
    "\n",
    "# scores, errors = metrics.test_model(\n",
    "#     data.test_discretized_ratings,\n",
    "#     model,\n",
    "#     k=20\n",
    "# )"
   ]
  },
  {
   "cell_type": "code",
   "execution_count": null,
   "metadata": {},
   "outputs": [],
   "source": [
    "# px.box(scores, x=\"metric\", y=\"score\", color=\"metric\", title=\"Metrics\")"
   ]
  },
  {
   "cell_type": "code",
   "execution_count": null,
   "metadata": {},
   "outputs": [],
   "source": [
    "# px.box(errors, x=\"metric\", y=\"error\", color=\"metric\", title=\"Errors\")"
   ]
  }
 ]
}