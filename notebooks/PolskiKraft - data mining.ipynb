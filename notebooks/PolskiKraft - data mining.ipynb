{
  "nbformat": 4,
  "nbformat_minor": 0,
  "metadata": {
    "colab": {
      "name": "PolskiKraft - ekstrakcja danych.ipynb",
      "provenance": [],
      "collapsed_sections": [
        "MD2p-1GPAfCG",
        "iWRohhid_tye",
        "uawT-yKfNO3_"
      ]
    },
    "kernelspec": {
      "name": "python3",
      "display_name": "Python 3"
    },
    "language_info": {
      "name": "python"
    },
    "widgets": {
      "application/vnd.jupyter.widget-state+json": {
        "7c5a14b18a5e4f85a958cec765aee136": {
          "model_module": "@jupyter-widgets/controls",
          "model_name": "HBoxModel",
          "state": {
            "_view_name": "HBoxView",
            "_dom_classes": [],
            "_model_name": "HBoxModel",
            "_view_module": "@jupyter-widgets/controls",
            "_model_module_version": "1.5.0",
            "_view_count": null,
            "_view_module_version": "1.5.0",
            "box_style": "",
            "layout": "IPY_MODEL_d38645a3abec48afa32d11d1e0ed4dfd",
            "_model_module": "@jupyter-widgets/controls",
            "children": [
              "IPY_MODEL_acb457f760cc4403af73e511644f2b48",
              "IPY_MODEL_c830a0e167d947edbd460bda38d0bfdd"
            ]
          }
        },
        "d38645a3abec48afa32d11d1e0ed4dfd": {
          "model_module": "@jupyter-widgets/base",
          "model_name": "LayoutModel",
          "state": {
            "_view_name": "LayoutView",
            "grid_template_rows": null,
            "right": null,
            "justify_content": null,
            "_view_module": "@jupyter-widgets/base",
            "overflow": null,
            "_model_module_version": "1.2.0",
            "_view_count": null,
            "flex_flow": null,
            "width": null,
            "min_width": null,
            "border": null,
            "align_items": null,
            "bottom": null,
            "_model_module": "@jupyter-widgets/base",
            "top": null,
            "grid_column": null,
            "overflow_y": null,
            "overflow_x": null,
            "grid_auto_flow": null,
            "grid_area": null,
            "grid_template_columns": null,
            "flex": null,
            "_model_name": "LayoutModel",
            "justify_items": null,
            "grid_row": null,
            "max_height": null,
            "align_content": null,
            "visibility": null,
            "align_self": null,
            "height": null,
            "min_height": null,
            "padding": null,
            "grid_auto_rows": null,
            "grid_gap": null,
            "max_width": null,
            "order": null,
            "_view_module_version": "1.2.0",
            "grid_template_areas": null,
            "object_position": null,
            "object_fit": null,
            "grid_auto_columns": null,
            "margin": null,
            "display": null,
            "left": null
          }
        },
        "acb457f760cc4403af73e511644f2b48": {
          "model_module": "@jupyter-widgets/controls",
          "model_name": "FloatProgressModel",
          "state": {
            "_view_name": "ProgressView",
            "style": "IPY_MODEL_116a0ea3b6db4521ab083af98e3afe22",
            "_dom_classes": [],
            "description": "100%",
            "_model_name": "FloatProgressModel",
            "bar_style": "success",
            "max": 9740,
            "_view_module": "@jupyter-widgets/controls",
            "_model_module_version": "1.5.0",
            "value": 9740,
            "_view_count": null,
            "_view_module_version": "1.5.0",
            "orientation": "horizontal",
            "min": 0,
            "description_tooltip": null,
            "_model_module": "@jupyter-widgets/controls",
            "layout": "IPY_MODEL_7234f67f8c06424182e23a33547891c2"
          }
        },
        "c830a0e167d947edbd460bda38d0bfdd": {
          "model_module": "@jupyter-widgets/controls",
          "model_name": "HTMLModel",
          "state": {
            "_view_name": "HTMLView",
            "style": "IPY_MODEL_d4e3643b16954f42a71d011c2a81c4df",
            "_dom_classes": [],
            "description": "",
            "_model_name": "HTMLModel",
            "placeholder": "​",
            "_view_module": "@jupyter-widgets/controls",
            "_model_module_version": "1.5.0",
            "value": " 9740/9740 [1:34:55&lt;00:00,  1.71it/s]",
            "_view_count": null,
            "_view_module_version": "1.5.0",
            "description_tooltip": null,
            "_model_module": "@jupyter-widgets/controls",
            "layout": "IPY_MODEL_f25b4eb1f19c4614bb91c7da057bbc94"
          }
        },
        "116a0ea3b6db4521ab083af98e3afe22": {
          "model_module": "@jupyter-widgets/controls",
          "model_name": "ProgressStyleModel",
          "state": {
            "_view_name": "StyleView",
            "_model_name": "ProgressStyleModel",
            "description_width": "initial",
            "_view_module": "@jupyter-widgets/base",
            "_model_module_version": "1.5.0",
            "_view_count": null,
            "_view_module_version": "1.2.0",
            "bar_color": null,
            "_model_module": "@jupyter-widgets/controls"
          }
        },
        "7234f67f8c06424182e23a33547891c2": {
          "model_module": "@jupyter-widgets/base",
          "model_name": "LayoutModel",
          "state": {
            "_view_name": "LayoutView",
            "grid_template_rows": null,
            "right": null,
            "justify_content": null,
            "_view_module": "@jupyter-widgets/base",
            "overflow": null,
            "_model_module_version": "1.2.0",
            "_view_count": null,
            "flex_flow": null,
            "width": null,
            "min_width": null,
            "border": null,
            "align_items": null,
            "bottom": null,
            "_model_module": "@jupyter-widgets/base",
            "top": null,
            "grid_column": null,
            "overflow_y": null,
            "overflow_x": null,
            "grid_auto_flow": null,
            "grid_area": null,
            "grid_template_columns": null,
            "flex": null,
            "_model_name": "LayoutModel",
            "justify_items": null,
            "grid_row": null,
            "max_height": null,
            "align_content": null,
            "visibility": null,
            "align_self": null,
            "height": null,
            "min_height": null,
            "padding": null,
            "grid_auto_rows": null,
            "grid_gap": null,
            "max_width": null,
            "order": null,
            "_view_module_version": "1.2.0",
            "grid_template_areas": null,
            "object_position": null,
            "object_fit": null,
            "grid_auto_columns": null,
            "margin": null,
            "display": null,
            "left": null
          }
        },
        "d4e3643b16954f42a71d011c2a81c4df": {
          "model_module": "@jupyter-widgets/controls",
          "model_name": "DescriptionStyleModel",
          "state": {
            "_view_name": "StyleView",
            "_model_name": "DescriptionStyleModel",
            "description_width": "",
            "_view_module": "@jupyter-widgets/base",
            "_model_module_version": "1.5.0",
            "_view_count": null,
            "_view_module_version": "1.2.0",
            "_model_module": "@jupyter-widgets/controls"
          }
        },
        "f25b4eb1f19c4614bb91c7da057bbc94": {
          "model_module": "@jupyter-widgets/base",
          "model_name": "LayoutModel",
          "state": {
            "_view_name": "LayoutView",
            "grid_template_rows": null,
            "right": null,
            "justify_content": null,
            "_view_module": "@jupyter-widgets/base",
            "overflow": null,
            "_model_module_version": "1.2.0",
            "_view_count": null,
            "flex_flow": null,
            "width": null,
            "min_width": null,
            "border": null,
            "align_items": null,
            "bottom": null,
            "_model_module": "@jupyter-widgets/base",
            "top": null,
            "grid_column": null,
            "overflow_y": null,
            "overflow_x": null,
            "grid_auto_flow": null,
            "grid_area": null,
            "grid_template_columns": null,
            "flex": null,
            "_model_name": "LayoutModel",
            "justify_items": null,
            "grid_row": null,
            "max_height": null,
            "align_content": null,
            "visibility": null,
            "align_self": null,
            "height": null,
            "min_height": null,
            "padding": null,
            "grid_auto_rows": null,
            "grid_gap": null,
            "max_width": null,
            "order": null,
            "_view_module_version": "1.2.0",
            "grid_template_areas": null,
            "object_position": null,
            "object_fit": null,
            "grid_auto_columns": null,
            "margin": null,
            "display": null,
            "left": null
          }
        }
      }
    }
  },
  "cells": [
    {
      "cell_type": "code",
      "metadata": {
        "id": "gQMXkjN39zPI"
      },
      "source": [
        "# ostatnie piwo: https://www.polskikraft.pl/piwo/9740\n",
        "# ostatni browar: https://www.polskikraft.pl/browar/411\n",
        "# ostatni user: https://www.polskikraft.pl/profil/28348"
      ],
      "execution_count": 1,
      "outputs": []
    },
    {
      "cell_type": "markdown",
      "metadata": {
        "id": "MD2p-1GPAfCG"
      },
      "source": [
        "# imports"
      ]
    },
    {
      "cell_type": "code",
      "metadata": {
        "id": "FkMvbvZz_P4T"
      },
      "source": [
        "import os\n",
        "dumpdir = '/content/drive/MyDrive/datasets/PolskiKraft'"
      ],
      "execution_count": 2,
      "outputs": []
    },
    {
      "cell_type": "code",
      "metadata": {
        "id": "BV01Ef1CLunp"
      },
      "source": [
        "import pandas as pd\n",
        "from tqdm.auto import tqdm\n",
        "from bs4 import BeautifulSoup"
      ],
      "execution_count": 3,
      "outputs": []
    },
    {
      "cell_type": "code",
      "metadata": {
        "id": "lbTKSU2rAr4S"
      },
      "source": [
        "# import the data\n",
        "!cp {dumpdir}/*.zip .\n",
        "!unzip -q piwa.zip\n",
        "!unzip -q browary.zip"
      ],
      "execution_count": 4,
      "outputs": []
    },
    {
      "cell_type": "markdown",
      "metadata": {
        "id": "x4wWg-oDuKIS"
      },
      "source": [
        "# Extracting the data"
      ]
    },
    {
      "cell_type": "markdown",
      "metadata": {
        "id": "iWRohhid_tye"
      },
      "source": [
        "## Etractors (defining the functions)"
      ]
    },
    {
      "cell_type": "markdown",
      "metadata": {
        "id": "uawT-yKfNO3_"
      },
      "source": [
        "### Brewery"
      ]
    },
    {
      "cell_type": "code",
      "metadata": {
        "id": "B-_LhJS1BNyt"
      },
      "source": [
        "with open('browary/411.html', 'r') as f:\n",
        "    html_content = f.read()"
      ],
      "execution_count": 5,
      "outputs": []
    },
    {
      "cell_type": "code",
      "metadata": {
        "id": "hmY2vjMdFljM"
      },
      "source": [
        "def extract_brewery_beers_from_brewery_html(html_content):\n",
        "    #in: string containing html file\n",
        "    #out: list of dicts of extracted properties:\n",
        "    #     [{...}]\n",
        "    soup = BeautifulSoup(html_content, 'html.parser')\n",
        "    beer_entries = soup.find_all(\"div\", {\"class\": \"pk-search-entry-link\"})\n",
        "    results = []\n",
        "    for html_entry in beer_entries:\n",
        "\n",
        "        tmp = html_entry.find_all(\"div\", {\"class\":\"row pk-search-entry\"})[0].contents\n",
        "        results.append({\n",
        "            'brewery_name': soup.find_all(\"ol\", {\"class\":\"breadcrumb pk-breadcrumb\"})[0].find_all('li')[1].text,\n",
        "            'name': tmp[3].text,\n",
        "            'rating': float(html_entry.find_all(\"div\", {\"class\":\"row rating\"})[0].text),\n",
        "            'type': tmp[6].text,\n",
        "            'thumbnail_link': tmp[1].get('src'),\n",
        "        })\n",
        "    return results"
      ],
      "execution_count": 6,
      "outputs": []
    },
    {
      "cell_type": "code",
      "metadata": {
        "colab": {
          "base_uri": "https://localhost:8080/",
          "height": 0
        },
        "id": "zsWbgiybK68C",
        "outputId": "031e11a2-1f4f-4bbd-9875-f2768df0ebc0"
      },
      "source": [
        "pd.DataFrame(extract_brewery_beers_from_brewery_html(html_content))"
      ],
      "execution_count": 7,
      "outputs": [
        {
          "output_type": "execute_result",
          "data": {
            "text/html": [
              "<div>\n",
              "<style scoped>\n",
              "    .dataframe tbody tr th:only-of-type {\n",
              "        vertical-align: middle;\n",
              "    }\n",
              "\n",
              "    .dataframe tbody tr th {\n",
              "        vertical-align: top;\n",
              "    }\n",
              "\n",
              "    .dataframe thead th {\n",
              "        text-align: right;\n",
              "    }\n",
              "</style>\n",
              "<table border=\"1\" class=\"dataframe\">\n",
              "  <thead>\n",
              "    <tr style=\"text-align: right;\">\n",
              "      <th></th>\n",
              "      <th>brewery_name</th>\n",
              "      <th>name</th>\n",
              "      <th>rating</th>\n",
              "      <th>type</th>\n",
              "      <th>thumbnail_link</th>\n",
              "    </tr>\n",
              "  </thead>\n",
              "  <tbody>\n",
              "    <tr>\n",
              "      <th>0</th>\n",
              "      <td>Monkey Browar</td>\n",
              "      <td>Wróg U Bram</td>\n",
              "      <td>3.6</td>\n",
              "      <td>American Pale Ale</td>\n",
              "      <td>https://www.polskikraft.pl/img/photos/16019238...</td>\n",
              "    </tr>\n",
              "    <tr>\n",
              "      <th>1</th>\n",
              "      <td>Monkey Browar</td>\n",
              "      <td>Born To Be Hoppy</td>\n",
              "      <td>4.1</td>\n",
              "      <td>DDH DIPA</td>\n",
              "      <td>https://www.polskikraft.pl/img/photos/16019237...</td>\n",
              "    </tr>\n",
              "    <tr>\n",
              "      <th>2</th>\n",
              "      <td>Monkey Browar</td>\n",
              "      <td>Born To Be Hoppy</td>\n",
              "      <td>4.4</td>\n",
              "      <td>DDH Double IPA</td>\n",
              "      <td>https://www.polskikraft.pl/img/photos/16019229...</td>\n",
              "    </tr>\n",
              "  </tbody>\n",
              "</table>\n",
              "</div>"
            ],
            "text/plain": [
              "    brewery_name  ...                                     thumbnail_link\n",
              "0  Monkey Browar  ...  https://www.polskikraft.pl/img/photos/16019238...\n",
              "1  Monkey Browar  ...  https://www.polskikraft.pl/img/photos/16019237...\n",
              "2  Monkey Browar  ...  https://www.polskikraft.pl/img/photos/16019229...\n",
              "\n",
              "[3 rows x 5 columns]"
            ]
          },
          "metadata": {
            "tags": []
          },
          "execution_count": 7
        }
      ]
    },
    {
      "cell_type": "code",
      "metadata": {
        "id": "FfF31tbnJG9w"
      },
      "source": [
        "def extract_brewery_rating_from_brewery_html(html_content):\n",
        "    #in: string containing html file\n",
        "    #out: dict of extracted properties:\n",
        "    #     {...}\n",
        "    soup = BeautifulSoup(html_content, 'html.parser')\n",
        "    the_div = soup.find_all(\"div\", {\"class\":\"panel-body pk-panel-photo-tile\"})[0]\n",
        "    results = {\n",
        "        'name': the_div.find(\"p\", {\"class\":\"beer-name\"}).text,\n",
        "        'beers': the_div.find(\"p\", {\"class\":\"brewery-name\"}).text,\n",
        "        'rating': float(the_div.find(\"span\", {\"class\":\"rating\"}).text),\n",
        "        'logo_link': soup.find_all(\"div\", {\"class\":\"panel-body pk-panel-photo-tile\"})[0].find('img').get('src'),\n",
        "    }\n",
        "    return results"
      ],
      "execution_count": 8,
      "outputs": []
    },
    {
      "cell_type": "code",
      "metadata": {
        "colab": {
          "base_uri": "https://localhost:8080/"
        },
        "id": "YTa5Z9X3NB_M",
        "outputId": "f2461058-f1bd-466f-a65d-3c99a1b4c16e"
      },
      "source": [
        "extract_brewery_rating_from_brewery_html(html_content)"
      ],
      "execution_count": 9,
      "outputs": [
        {
          "output_type": "execute_result",
          "data": {
            "text/plain": [
              "{'beers': '3 piwa',\n",
              " 'logo_link': 'https://www.polskikraft.pl/img/photos/1601922522.jpg',\n",
              " 'name': 'Monkey Browar',\n",
              " 'rating': 4.0}"
            ]
          },
          "metadata": {
            "tags": []
          },
          "execution_count": 9
        }
      ]
    },
    {
      "cell_type": "markdown",
      "metadata": {
        "id": "0aS3ptx9NST7"
      },
      "source": [
        "### Beers"
      ]
    },
    {
      "cell_type": "code",
      "metadata": {
        "id": "iJakTG9tuc_P"
      },
      "source": [
        "with open('piwa/9740.html', 'r') as f:\n",
        "    html_content = f.read()"
      ],
      "execution_count": 10,
      "outputs": []
    },
    {
      "cell_type": "code",
      "metadata": {
        "id": "e9ReJQA2e_G_"
      },
      "source": [
        "def extract_similar_beers_from_beer_html_soup(soup):\n",
        "    #in: string containing html file\n",
        "    #out: dict of extracted properties:\n",
        "    #     {...}\n",
        "\n",
        "    similar_div = soup.find_all(\"div\", {\"class\":\"panel-body pk-panel-tile pk-panel-tile-list\"})[4]\n",
        "    hrefs = [x.get(\"href\") for x in similar_div.find_all(\"a\", {\"class\":\"big-link\"})]\n",
        "    return [{'similar': x.split('_')[-1], 'similar_link': x} for x in hrefs]\n",
        "\n",
        "def extract_similar_beers_from_beer_html(html_content):\n",
        "    #in: string containing html file\n",
        "    #out: dict of extracted properties:\n",
        "    #     {...}\n",
        "\n",
        "    soup = BeautifulSoup(html_content, 'html.parser')\n",
        "    return extract_similar_beers_from_beer_html_soup(soup)"
      ],
      "execution_count": 11,
      "outputs": []
    },
    {
      "cell_type": "code",
      "metadata": {
        "colab": {
          "base_uri": "https://localhost:8080/",
          "height": 0
        },
        "id": "ONiUWFy7iDb8",
        "outputId": "eda60759-e7e0-4986-d664-5d38a4d4c082"
      },
      "source": [
        "pd.DataFrame(extract_similar_beers_from_beer_html(html_content))"
      ],
      "execution_count": 12,
      "outputs": [
        {
          "output_type": "execute_result",
          "data": {
            "text/html": [
              "<div>\n",
              "<style scoped>\n",
              "    .dataframe tbody tr th:only-of-type {\n",
              "        vertical-align: middle;\n",
              "    }\n",
              "\n",
              "    .dataframe tbody tr th {\n",
              "        vertical-align: top;\n",
              "    }\n",
              "\n",
              "    .dataframe thead th {\n",
              "        text-align: right;\n",
              "    }\n",
              "</style>\n",
              "<table border=\"1\" class=\"dataframe\">\n",
              "  <thead>\n",
              "    <tr style=\"text-align: right;\">\n",
              "      <th></th>\n",
              "      <th>similar</th>\n",
              "      <th>similar_link</th>\n",
              "    </tr>\n",
              "  </thead>\n",
              "  <tbody>\n",
              "    <tr>\n",
              "      <th>0</th>\n",
              "      <td>1748</td>\n",
              "      <td>https://www.polskikraft.pl/piwo/pinta-vermont-...</td>\n",
              "    </tr>\n",
              "    <tr>\n",
              "      <th>1</th>\n",
              "      <td>2330</td>\n",
              "      <td>https://www.polskikraft.pl/piwo/browar-ziemia-...</td>\n",
              "    </tr>\n",
              "    <tr>\n",
              "      <th>2</th>\n",
              "      <td>2476</td>\n",
              "      <td>https://www.polskikraft.pl/piwo/browar-bazylis...</td>\n",
              "    </tr>\n",
              "    <tr>\n",
              "      <th>3</th>\n",
              "      <td>2485</td>\n",
              "      <td>https://www.polskikraft.pl/piwo/browar-deer-be...</td>\n",
              "    </tr>\n",
              "    <tr>\n",
              "      <th>4</th>\n",
              "      <td>2568</td>\n",
              "      <td>https://www.polskikraft.pl/piwo/piwne-podziemi...</td>\n",
              "    </tr>\n",
              "    <tr>\n",
              "      <th>...</th>\n",
              "      <td>...</td>\n",
              "      <td>...</td>\n",
              "    </tr>\n",
              "    <tr>\n",
              "      <th>294</th>\n",
              "      <td>9700</td>\n",
              "      <td>https://www.polskikraft.pl/piwo/piwojad-test-%...</td>\n",
              "    </tr>\n",
              "    <tr>\n",
              "      <th>295</th>\n",
              "      <td>9704</td>\n",
              "      <td>https://www.polskikraft.pl/piwo/browar-stu-mos...</td>\n",
              "    </tr>\n",
              "    <tr>\n",
              "      <th>296</th>\n",
              "      <td>9705</td>\n",
              "      <td>https://www.polskikraft.pl/piwo/piwojad-ddh-ne...</td>\n",
              "    </tr>\n",
              "    <tr>\n",
              "      <th>297</th>\n",
              "      <td>9723</td>\n",
              "      <td>https://www.polskikraft.pl/piwo/alebrowar-new-...</td>\n",
              "    </tr>\n",
              "    <tr>\n",
              "      <th>298</th>\n",
              "      <td>9725</td>\n",
              "      <td>https://www.polskikraft.pl/piwo/browar-funky-f...</td>\n",
              "    </tr>\n",
              "  </tbody>\n",
              "</table>\n",
              "<p>299 rows × 2 columns</p>\n",
              "</div>"
            ],
            "text/plain": [
              "    similar                                       similar_link\n",
              "0      1748  https://www.polskikraft.pl/piwo/pinta-vermont-...\n",
              "1      2330  https://www.polskikraft.pl/piwo/browar-ziemia-...\n",
              "2      2476  https://www.polskikraft.pl/piwo/browar-bazylis...\n",
              "3      2485  https://www.polskikraft.pl/piwo/browar-deer-be...\n",
              "4      2568  https://www.polskikraft.pl/piwo/piwne-podziemi...\n",
              "..      ...                                                ...\n",
              "294    9700  https://www.polskikraft.pl/piwo/piwojad-test-%...\n",
              "295    9704  https://www.polskikraft.pl/piwo/browar-stu-mos...\n",
              "296    9705  https://www.polskikraft.pl/piwo/piwojad-ddh-ne...\n",
              "297    9723  https://www.polskikraft.pl/piwo/alebrowar-new-...\n",
              "298    9725  https://www.polskikraft.pl/piwo/browar-funky-f...\n",
              "\n",
              "[299 rows x 2 columns]"
            ]
          },
          "metadata": {
            "tags": []
          },
          "execution_count": 12
        }
      ]
    },
    {
      "cell_type": "code",
      "metadata": {
        "id": "m-Jts5KLNWqQ"
      },
      "source": [
        "def extract_beer_data_from_beer_html_soup(soup):\n",
        "    #in: string containing html file\n",
        "    #out: dict of extracted properties:\n",
        "    #     {...}\n",
        "\n",
        "    the_div = soup.find(\"div\", {\"class\":\"panel-body pk-panel-photo-tile\"})\n",
        "    description_div = soup.find(\"div\", {\"class\":\"panel-body pk-panel-tile\"})\n",
        "    results = {\n",
        "        'name': the_div.find(\"p\", {\"class\":\"beer-name\"}).text,\n",
        "        'brewery': the_div.find(\"p\", {\"class\":\"brewery-name\"}).text,\n",
        "        'rating': the_div.find(\"span\", {\"class\":\"rating\"}).text.strip(),\n",
        "        'logo_link': soup.find(\"div\", {\"class\":\"panel-body pk-panel-photo-tile\"}).find('img').get('src'),\n",
        "        'features': {x.find(\"p\").text: x.find(\"h1\").text\n",
        "            for x in description_div.find_all(\"div\", {\"class\": \"col-xs-4\"})},\n",
        "        'descriptive_features': {x.find(\"h3\").text: x.find(\"p\").text.strip()\n",
        "            for x in description_div.find_all(\"div\", {\"class\": \"col-xs-12 pk-details-category\"})}\n",
        "    }\n",
        "    return results\n",
        "\n",
        "def extract_beer_data_from_beer_html(html_content):\n",
        "    #in: string containing html file\n",
        "    #out: dict of extracted properties:\n",
        "    #     {...}\n",
        "\n",
        "    soup = BeautifulSoup(html_content, 'html.parser')\n",
        "    return extract_beer_data_from_beer_html_soup(soup)"
      ],
      "execution_count": 13,
      "outputs": []
    },
    {
      "cell_type": "code",
      "metadata": {
        "colab": {
          "base_uri": "https://localhost:8080/"
        },
        "id": "8mqKBIcihInO",
        "outputId": "ccb30b0d-5e56-4a99-f735-3ed5064d7efb"
      },
      "source": [
        "extract_beer_data_from_beer_html(html_content)"
      ],
      "execution_count": 14,
      "outputs": [
        {
          "output_type": "execute_result",
          "data": {
            "text/plain": [
              "{'brewery': 'BROWAR ABSZTYFIKANT',\n",
              " 'descriptive_features': {'CHMIELE': 'Citra (USA), Mosaic (USA), Simcoe (USA)',\n",
              "  'STYL': 'New England IPA'},\n",
              " 'features': {'alc': '5.6', 'blg': '14', 'ibu': '-'},\n",
              " 'logo_link': 'https://www.polskikraft.pl/img/photos/1607626847.jpg',\n",
              " 'name': 'Jupikajej 6.0',\n",
              " 'rating': '3.1'}"
            ]
          },
          "metadata": {
            "tags": []
          },
          "execution_count": 14
        }
      ]
    },
    {
      "cell_type": "code",
      "metadata": {
        "id": "We2ULdb6O6hx"
      },
      "source": [
        "def extract_user_ratings_from_beer_html_soup(soup):\n",
        "    #in: string containing html file\n",
        "    #out: list of dicts of extracted properties:\n",
        "    #     {...}\n",
        "    the_div = soup.find(\"div\", {\"class\":\"panel panel-default hidden-xs\"})\n",
        "    ratings_element = the_div.find_all(\"div\", {\"class\":\"row pk-comments-item pk-comment-link\"})\n",
        "    results = []\n",
        "    for user_rating_element in ratings_element:\n",
        "        user_profile_link = user_rating_element.find_all(\"a\")[1].get('href')\n",
        "        username_element = user_rating_element.find(\"p\", {\"class\": \"username\"})\n",
        "        tmp = user_rating_element.find_all(\"div\", {\"class\":\"row pk-comments-bjcp-bar\"})\n",
        "        results.append({\n",
        "            'rating': len(user_rating_element.find_all(\"i\", {\"class\":\"fa fa-star fa-lg\"})),\n",
        "            'user': list(username_element.children)[0].strip(),\n",
        "            'date': username_element.find(\"sub\").text,\n",
        "            'user_id': user_profile_link.split('/')[-1],\n",
        "            'user_profile': user_profile_link,\n",
        "            'user_avatar_link': user_rating_element.find(\"img\").get(\"src\"),\n",
        "            'comment': user_rating_element.find(\"p\", {\"class\":\"content\"}).text.strip(),\n",
        "            'BJCP': {\n",
        "                x.find('p', {\"class\":\"title\"}).text:\n",
        "                x.find('p', {\"class\":\"rating\"}).text\n",
        "                for x in tmp\n",
        "                },\n",
        "        })\n",
        "    return results\n",
        "\n",
        "def extract_user_ratings_from_beer_html(html_content):\n",
        "    #in: string containing html file\n",
        "    #out: list of dicts of extracted properties:\n",
        "    #     {...}\n",
        "    soup = BeautifulSoup(html_content, 'html.parser')\n",
        "    return extract_user_ratings_from_beer_html_soup(soup)"
      ],
      "execution_count": 15,
      "outputs": []
    },
    {
      "cell_type": "code",
      "metadata": {
        "colab": {
          "base_uri": "https://localhost:8080/",
          "height": 0
        },
        "id": "vIlJiRBEW3fr",
        "outputId": "e01d7f7d-f025-44b4-d59e-266e642a255c"
      },
      "source": [
        "pd.DataFrame(extract_user_ratings_from_beer_html(html_content))"
      ],
      "execution_count": 16,
      "outputs": [
        {
          "output_type": "execute_result",
          "data": {
            "text/html": [
              "<div>\n",
              "<style scoped>\n",
              "    .dataframe tbody tr th:only-of-type {\n",
              "        vertical-align: middle;\n",
              "    }\n",
              "\n",
              "    .dataframe tbody tr th {\n",
              "        vertical-align: top;\n",
              "    }\n",
              "\n",
              "    .dataframe thead th {\n",
              "        text-align: right;\n",
              "    }\n",
              "</style>\n",
              "<table border=\"1\" class=\"dataframe\">\n",
              "  <thead>\n",
              "    <tr style=\"text-align: right;\">\n",
              "      <th></th>\n",
              "      <th>rating</th>\n",
              "      <th>user</th>\n",
              "      <th>date</th>\n",
              "      <th>user_id</th>\n",
              "      <th>user_profile</th>\n",
              "      <th>user_avatar_link</th>\n",
              "      <th>comment</th>\n",
              "      <th>BJCP</th>\n",
              "    </tr>\n",
              "  </thead>\n",
              "  <tbody>\n",
              "    <tr>\n",
              "      <th>0</th>\n",
              "      <td>3</td>\n",
              "      <td>eMeS</td>\n",
              "      <td>12/02/2021</td>\n",
              "      <td>2201</td>\n",
              "      <td>https://www.polskikraft.pl/profil/2201</td>\n",
              "      <td>https://graph.facebook.com/v2.5/13347658665491...</td>\n",
              "      <td></td>\n",
              "      <td>{}</td>\n",
              "    </tr>\n",
              "    <tr>\n",
              "      <th>1</th>\n",
              "      <td>3</td>\n",
              "      <td>Tomasz Romaszko</td>\n",
              "      <td>13/12/2020</td>\n",
              "      <td>21290</td>\n",
              "      <td>https://www.polskikraft.pl/profil/21290</td>\n",
              "      <td>https://graph.facebook.com/v2.5/22950427405543...</td>\n",
              "      <td></td>\n",
              "      <td>{}</td>\n",
              "    </tr>\n",
              "    <tr>\n",
              "      <th>2</th>\n",
              "      <td>3</td>\n",
              "      <td>WaldoBeerSan</td>\n",
              "      <td>12/12/2020</td>\n",
              "      <td>14866</td>\n",
              "      <td>https://www.polskikraft.pl/profil/14866</td>\n",
              "      <td>https://www.polskikraft.pl/img/layout/ic_user_...</td>\n",
              "      <td>Dobre Piwo, słodycz niska, barwa bursztynowa, ...</td>\n",
              "      <td>{'AROMAT': '8/12', 'WYGLĄD': '3/3', 'SMAK': '1...</td>\n",
              "    </tr>\n",
              "    <tr>\n",
              "      <th>3</th>\n",
              "      <td>3</td>\n",
              "      <td>Piter Casch</td>\n",
              "      <td>10/12/2020</td>\n",
              "      <td>13459</td>\n",
              "      <td>https://www.polskikraft.pl/profil/13459</td>\n",
              "      <td>https://platform-lookaside.fbsbx.com/platform/...</td>\n",
              "      <td>Wygląd wody z kałuży. W smaku ok.</td>\n",
              "      <td>{}</td>\n",
              "    </tr>\n",
              "  </tbody>\n",
              "</table>\n",
              "</div>"
            ],
            "text/plain": [
              "   rating  ...                                               BJCP\n",
              "0       3  ...                                                 {}\n",
              "1       3  ...                                                 {}\n",
              "2       3  ...  {'AROMAT': '8/12', 'WYGLĄD': '3/3', 'SMAK': '1...\n",
              "3       3  ...                                                 {}\n",
              "\n",
              "[4 rows x 8 columns]"
            ]
          },
          "metadata": {
            "tags": []
          },
          "execution_count": 16
        }
      ]
    },
    {
      "cell_type": "markdown",
      "metadata": {
        "id": "DU0U1mYQ_hEr"
      },
      "source": [
        "## Creating the dataset"
      ]
    },
    {
      "cell_type": "markdown",
      "metadata": {
        "id": "HXh8R6oHBdbj"
      },
      "source": [
        "### Beers"
      ]
    },
    {
      "cell_type": "code",
      "metadata": {
        "colab": {
          "base_uri": "https://localhost:8080/",
          "height": 104,
          "referenced_widgets": [
            "7c5a14b18a5e4f85a958cec765aee136",
            "d38645a3abec48afa32d11d1e0ed4dfd",
            "acb457f760cc4403af73e511644f2b48",
            "c830a0e167d947edbd460bda38d0bfdd",
            "116a0ea3b6db4521ab083af98e3afe22",
            "7234f67f8c06424182e23a33547891c2",
            "d4e3643b16954f42a71d011c2a81c4df",
            "f25b4eb1f19c4614bb91c7da057bbc94"
          ]
        },
        "id": "zGxvQcVMBkFo",
        "outputId": "7a02fa07-7169-476d-88db-b72cc9b71e1f"
      },
      "source": [
        "beers_metadata = []\n",
        "PK_ratings = []\n",
        "beer_network_according_to_PK = []\n",
        "bad_files = []\n",
        "\n",
        "for i in tqdm(range(1,9740+1)):\n",
        "    path = f'piwa/{i}.html'\n",
        "    with open(path, 'r') as f:\n",
        "        html_content = f.read()\n",
        "    try:\n",
        "        soup = BeautifulSoup(html_content, 'html.parser')\n",
        "        metadata = extract_beer_data_from_beer_html_soup(soup)\n",
        "        ratings = extract_user_ratings_from_beer_html_soup(soup)\n",
        "        similar_to = extract_similar_beers_from_beer_html_soup(soup)\n",
        "        edges = [(i,x['similar']) for x in similar_to]\n",
        "\n",
        "        # update data with beer id\n",
        "        metadata.update({'beer_id': i})\n",
        "        for r in ratings:\n",
        "            r.update({'beer_id': i})\n",
        "        beers_metadata.append(metadata)\n",
        "\n",
        "        # unpack specific features\n",
        "        mf = metadata.pop('features')\n",
        "        mdf = metadata.pop('descriptive_features')\n",
        "        metadata.update(mf)\n",
        "        metadata.update(mdf)\n",
        "        for r in ratings:\n",
        "            bjcp_features = r.pop('BJCP')\n",
        "            r.update(bjcp_features)\n",
        "\n",
        "        # append the entries\n",
        "        PK_ratings += ratings\n",
        "        beer_network_according_to_PK += edges\n",
        "    except:\n",
        "        bad_files.append(i)\n",
        "\n",
        "beers_metadata = pd.DataFrame(beers_metadata)\n",
        "PK_ratings = pd.DataFrame(PK_ratings)\n",
        "print('bad_files:', bad_files)"
      ],
      "execution_count": 18,
      "outputs": [
        {
          "output_type": "display_data",
          "data": {
            "application/vnd.jupyter.widget-view+json": {
              "model_id": "7c5a14b18a5e4f85a958cec765aee136",
              "version_minor": 0,
              "version_major": 2
            },
            "text/plain": [
              "HBox(children=(FloatProgress(value=0.0, max=9740.0), HTML(value='')))"
            ]
          },
          "metadata": {
            "tags": []
          }
        },
        {
          "output_type": "stream",
          "text": [
            "\n",
            "bad_files: [63, 65, 66, 130, 279, 383, 490, 1335, 1350, 1462, 1674, 1699, 1705, 1725, 1750, 1764, 2331, 2337, 2364, 2722, 2748, 2810, 3036, 3645, 3745, 4046, 4221, 4434, 4931, 6044, 6148, 6170, 6670, 6870, 6950, 7336]\n"
          ],
          "name": "stdout"
        }
      ]
    },
    {
      "cell_type": "code",
      "metadata": {
        "colab": {
          "base_uri": "https://localhost:8080/"
        },
        "id": "GAII8LUXy3Na",
        "outputId": "ccfe4d4e-82f1-4812-fd14-7284c53ef2f0"
      },
      "source": [
        "len(bad_files)"
      ],
      "execution_count": 26,
      "outputs": [
        {
          "output_type": "execute_result",
          "data": {
            "text/plain": [
              "36"
            ]
          },
          "metadata": {
            "tags": []
          },
          "execution_count": 26
        }
      ]
    },
    {
      "cell_type": "code",
      "metadata": {
        "colab": {
          "base_uri": "https://localhost:8080/",
          "height": 608
        },
        "id": "pD2wkBwvBuHn",
        "outputId": "e914d96c-966d-4416-9924-4e62a52a1794"
      },
      "source": [
        "beers_metadata.head()"
      ],
      "execution_count": 19,
      "outputs": [
        {
          "output_type": "execute_result",
          "data": {
            "text/html": [
              "<div>\n",
              "<style scoped>\n",
              "    .dataframe tbody tr th:only-of-type {\n",
              "        vertical-align: middle;\n",
              "    }\n",
              "\n",
              "    .dataframe tbody tr th {\n",
              "        vertical-align: top;\n",
              "    }\n",
              "\n",
              "    .dataframe thead th {\n",
              "        text-align: right;\n",
              "    }\n",
              "</style>\n",
              "<table border=\"1\" class=\"dataframe\">\n",
              "  <thead>\n",
              "    <tr style=\"text-align: right;\">\n",
              "      <th></th>\n",
              "      <th>name</th>\n",
              "      <th>brewery</th>\n",
              "      <th>rating</th>\n",
              "      <th>logo_link</th>\n",
              "      <th>beer_id</th>\n",
              "      <th>blg</th>\n",
              "      <th>alc</th>\n",
              "      <th>ibu</th>\n",
              "      <th>STYL</th>\n",
              "      <th>CHMIELE</th>\n",
              "      <th>SŁODY</th>\n",
              "      <th>DROŻDŻE</th>\n",
              "      <th>KONTRAKTOR</th>\n",
              "      <th>INNE DODATKI</th>\n",
              "    </tr>\n",
              "  </thead>\n",
              "  <tbody>\n",
              "    <tr>\n",
              "      <th>0</th>\n",
              "      <td>Rowing Jack</td>\n",
              "      <td>ALEBROWAR</td>\n",
              "      <td>4.2</td>\n",
              "      <td>https://www.polskikraft.pl/img/photos/14422467...</td>\n",
              "      <td>1</td>\n",
              "      <td>16</td>\n",
              "      <td>6.2</td>\n",
              "      <td>70</td>\n",
              "      <td>American India Pale Ale</td>\n",
              "      <td>Simcoe (USA), Chinook (USA), Citra (USA), Casc...</td>\n",
              "      <td>Pale Ale, Pszeniczny, Wiedeński, Carapils®</td>\n",
              "      <td>Safale US-05</td>\n",
              "      <td>Gościszewo</td>\n",
              "      <td>NaN</td>\n",
              "    </tr>\n",
              "    <tr>\n",
              "      <th>1</th>\n",
              "      <td>70 Szylingów</td>\n",
              "      <td>PINTA</td>\n",
              "      <td>3.5</td>\n",
              "      <td>https://www.polskikraft.pl/img/photos/14429079...</td>\n",
              "      <td>2</td>\n",
              "      <td>-</td>\n",
              "      <td>3.2</td>\n",
              "      <td>-</td>\n",
              "      <td>Scottish Ale 70</td>\n",
              "      <td>East Kent Goldings (GB)</td>\n",
              "      <td>Pale Ale Weyermann®, Carapils®, Wędzony Wayerm...</td>\n",
              "      <td>Safbrew S-33</td>\n",
              "      <td>Pinta</td>\n",
              "      <td>NaN</td>\n",
              "    </tr>\n",
              "    <tr>\n",
              "      <th>2</th>\n",
              "      <td>a ja pale ale</td>\n",
              "      <td>PINTA</td>\n",
              "      <td>3.7</td>\n",
              "      <td>https://www.polskikraft.pl/img/photos/14422597...</td>\n",
              "      <td>3</td>\n",
              "      <td>12</td>\n",
              "      <td>4.5</td>\n",
              "      <td>-</td>\n",
              "      <td>American Pale Ale</td>\n",
              "      <td>Columbus (USA), Chinook (USA), Cascade (USA), ...</td>\n",
              "      <td>Pale Ale Weyermann®, Diastatyczny jęczmieny We...</td>\n",
              "      <td>Safale US-05</td>\n",
              "      <td>Pinta</td>\n",
              "      <td>NaN</td>\n",
              "    </tr>\n",
              "    <tr>\n",
              "      <th>3</th>\n",
              "      <td>a'la Grodziskie</td>\n",
              "      <td>PINTA</td>\n",
              "      <td>3.2</td>\n",
              "      <td>https://www.polskikraft.pl/img/photos/14422607...</td>\n",
              "      <td>4</td>\n",
              "      <td>7.8</td>\n",
              "      <td>2.6</td>\n",
              "      <td>-</td>\n",
              "      <td>Grodziskie</td>\n",
              "      <td>Lubelski (PL)</td>\n",
              "      <td>Pszeniczny wędzony</td>\n",
              "      <td>Safbrew S-33</td>\n",
              "      <td>Pinta</td>\n",
              "      <td>NaN</td>\n",
              "    </tr>\n",
              "    <tr>\n",
              "      <th>4</th>\n",
              "      <td>Ale Szycha</td>\n",
              "      <td>PINTA</td>\n",
              "      <td>4.2</td>\n",
              "      <td>https://www.polskikraft.pl/img/photos/14423453...</td>\n",
              "      <td>5</td>\n",
              "      <td>13.1</td>\n",
              "      <td>5</td>\n",
              "      <td>-</td>\n",
              "      <td>Polskie Ale</td>\n",
              "      <td>Marynka szyszka (PL), Lubelski szyszka (PL)</td>\n",
              "      <td>Pilzneńśki Premium Weyermann</td>\n",
              "      <td>Fermentis S-04</td>\n",
              "      <td>Pinta</td>\n",
              "      <td>NaN</td>\n",
              "    </tr>\n",
              "  </tbody>\n",
              "</table>\n",
              "</div>"
            ],
            "text/plain": [
              "              name    brewery rating  ...         DROŻDŻE  KONTRAKTOR INNE DODATKI\n",
              "0      Rowing Jack  ALEBROWAR    4.2  ...    Safale US-05  Gościszewo          NaN\n",
              "1     70 Szylingów      PINTA    3.5  ...    Safbrew S-33       Pinta          NaN\n",
              "2    a ja pale ale      PINTA    3.7  ...    Safale US-05       Pinta          NaN\n",
              "3  a'la Grodziskie      PINTA    3.2  ...    Safbrew S-33       Pinta          NaN\n",
              "4       Ale Szycha      PINTA    4.2  ...  Fermentis S-04       Pinta          NaN\n",
              "\n",
              "[5 rows x 14 columns]"
            ]
          },
          "metadata": {
            "tags": []
          },
          "execution_count": 19
        }
      ]
    },
    {
      "cell_type": "code",
      "metadata": {
        "colab": {
          "base_uri": "https://localhost:8080/",
          "height": 487
        },
        "id": "mQ5kqgwbD7Ve",
        "outputId": "3a43877d-1fe1-4d0e-ada1-8666879e2ef1"
      },
      "source": [
        "PK_ratings.head()"
      ],
      "execution_count": 20,
      "outputs": [
        {
          "output_type": "execute_result",
          "data": {
            "text/html": [
              "<div>\n",
              "<style scoped>\n",
              "    .dataframe tbody tr th:only-of-type {\n",
              "        vertical-align: middle;\n",
              "    }\n",
              "\n",
              "    .dataframe tbody tr th {\n",
              "        vertical-align: top;\n",
              "    }\n",
              "\n",
              "    .dataframe thead th {\n",
              "        text-align: right;\n",
              "    }\n",
              "</style>\n",
              "<table border=\"1\" class=\"dataframe\">\n",
              "  <thead>\n",
              "    <tr style=\"text-align: right;\">\n",
              "      <th></th>\n",
              "      <th>rating</th>\n",
              "      <th>user</th>\n",
              "      <th>date</th>\n",
              "      <th>user_id</th>\n",
              "      <th>user_profile</th>\n",
              "      <th>user_avatar_link</th>\n",
              "      <th>comment</th>\n",
              "      <th>beer_id</th>\n",
              "      <th>AROMAT</th>\n",
              "      <th>WYGLĄD</th>\n",
              "      <th>SMAK</th>\n",
              "      <th>ODCZUCIE W USTACH</th>\n",
              "      <th>OGÓLNE WRAŻENIE</th>\n",
              "    </tr>\n",
              "  </thead>\n",
              "  <tbody>\n",
              "    <tr>\n",
              "      <th>0</th>\n",
              "      <td>4</td>\n",
              "      <td>Piwnypolitolog.pl</td>\n",
              "      <td>02/03/2016</td>\n",
              "      <td>1147</td>\n",
              "      <td>https://www.polskikraft.pl/profil/1147</td>\n",
              "      <td>https://graph.facebook.com/v2.5/10561137277617...</td>\n",
              "      <td>Ocena nieco uśredniona, bo różne warki się tra...</td>\n",
              "      <td>1</td>\n",
              "      <td>9/12</td>\n",
              "      <td>3/3</td>\n",
              "      <td>14/20</td>\n",
              "      <td>4/5</td>\n",
              "      <td>7/10</td>\n",
              "    </tr>\n",
              "    <tr>\n",
              "      <th>1</th>\n",
              "      <td>5</td>\n",
              "      <td>mojepiwa.pl</td>\n",
              "      <td>18/05/2016</td>\n",
              "      <td>1967</td>\n",
              "      <td>https://www.polskikraft.pl/profil/1967</td>\n",
              "      <td>https://platform-lookaside.fbsbx.com/platform/...</td>\n",
              "      <td>Powrót do klasyka, którego ma się w pamięci ja...</td>\n",
              "      <td>1</td>\n",
              "      <td>NaN</td>\n",
              "      <td>NaN</td>\n",
              "      <td>NaN</td>\n",
              "      <td>NaN</td>\n",
              "      <td>NaN</td>\n",
              "    </tr>\n",
              "    <tr>\n",
              "      <th>2</th>\n",
              "      <td>5</td>\n",
              "      <td>Chmielokracja</td>\n",
              "      <td>20/09/2015</td>\n",
              "      <td>229</td>\n",
              "      <td>https://www.polskikraft.pl/profil/229</td>\n",
              "      <td>https://graph.facebook.com/v2.5/99666886371456...</td>\n",
              "      <td></td>\n",
              "      <td>1</td>\n",
              "      <td>NaN</td>\n",
              "      <td>NaN</td>\n",
              "      <td>NaN</td>\n",
              "      <td>NaN</td>\n",
              "      <td>NaN</td>\n",
              "    </tr>\n",
              "    <tr>\n",
              "      <th>3</th>\n",
              "      <td>3</td>\n",
              "      <td>Damian Popiela</td>\n",
              "      <td>27/02/2021</td>\n",
              "      <td>28165</td>\n",
              "      <td>https://www.polskikraft.pl/profil/28165</td>\n",
              "      <td>https://platform-lookaside.fbsbx.com/platform/...</td>\n",
              "      <td></td>\n",
              "      <td>1</td>\n",
              "      <td>NaN</td>\n",
              "      <td>NaN</td>\n",
              "      <td>NaN</td>\n",
              "      <td>NaN</td>\n",
              "      <td>NaN</td>\n",
              "    </tr>\n",
              "    <tr>\n",
              "      <th>4</th>\n",
              "      <td>4</td>\n",
              "      <td>Mateusz Mioduszewski</td>\n",
              "      <td>10/02/2021</td>\n",
              "      <td>26727</td>\n",
              "      <td>https://www.polskikraft.pl/profil/26727</td>\n",
              "      <td>https://graph.facebook.com/v2.5/32551460645640...</td>\n",
              "      <td></td>\n",
              "      <td>1</td>\n",
              "      <td>NaN</td>\n",
              "      <td>NaN</td>\n",
              "      <td>NaN</td>\n",
              "      <td>NaN</td>\n",
              "      <td>NaN</td>\n",
              "    </tr>\n",
              "  </tbody>\n",
              "</table>\n",
              "</div>"
            ],
            "text/plain": [
              "   rating                  user  ... ODCZUCIE W USTACH OGÓLNE WRAŻENIE\n",
              "0       4     Piwnypolitolog.pl  ...               4/5            7/10\n",
              "1       5           mojepiwa.pl  ...               NaN             NaN\n",
              "2       5         Chmielokracja  ...               NaN             NaN\n",
              "3       3        Damian Popiela  ...               NaN             NaN\n",
              "4       4  Mateusz Mioduszewski  ...               NaN             NaN\n",
              "\n",
              "[5 rows x 13 columns]"
            ]
          },
          "metadata": {
            "tags": []
          },
          "execution_count": 20
        }
      ]
    },
    {
      "cell_type": "markdown",
      "metadata": {
        "id": "fRuekGSDKnvQ"
      },
      "source": [
        "save the results to a file"
      ]
    },
    {
      "cell_type": "code",
      "metadata": {
        "id": "g0IeozoLKnOm"
      },
      "source": [
        "beers_metadata.to_csv('beers_metadata.csv', index=False)"
      ],
      "execution_count": 21,
      "outputs": []
    },
    {
      "cell_type": "code",
      "metadata": {
        "id": "QHSoVGIMKnGz"
      },
      "source": [
        "PK_ratings.to_csv('ratings.csv', index=False)"
      ],
      "execution_count": 22,
      "outputs": []
    },
    {
      "cell_type": "code",
      "metadata": {
        "id": "WMUvh7txD80O"
      },
      "source": [
        "with open('beer_network.csv', 'w') as f:\n",
        "    for x in beer_network_according_to_PK:\n",
        "        f.write(f\"{x[0]}, {x[1]}\\n\")"
      ],
      "execution_count": 23,
      "outputs": []
    },
    {
      "cell_type": "code",
      "metadata": {
        "id": "VKPXdkV_HDC3"
      },
      "source": [
        "!cp beers_metadata.csv ratings.csv beer_network.csv {dumpdir}"
      ],
      "execution_count": 24,
      "outputs": []
    },
    {
      "cell_type": "code",
      "metadata": {
        "id": "eZx5e9P9LfPT"
      },
      "source": [
        "!cp beers_metadata.csv ratings.csv beer_network.csv /content/drive/MyDrive/DANsem3/SR"
      ],
      "execution_count": 25,
      "outputs": []
    }
  ]
}