{
  "nbformat": 4,
  "nbformat_minor": 0,
  "metadata": {
    "colab": {
      "name": "PolskiKraft - scrapowanie.ipynb",
      "provenance": [],
      "collapsed_sections": [],
      "toc_visible": true
    },
    "kernelspec": {
      "name": "python3",
      "display_name": "Python 3"
    },
    "language_info": {
      "name": "python"
    },
    "widgets": {
      "application/vnd.jupyter.widget-state+json": {
        "aff3f2b7a8bf4ca9ae7d65c0f560c1a4": {
          "model_module": "@jupyter-widgets/controls",
          "model_name": "HBoxModel",
          "state": {
            "_view_name": "HBoxView",
            "_dom_classes": [],
            "_model_name": "HBoxModel",
            "_view_module": "@jupyter-widgets/controls",
            "_model_module_version": "1.5.0",
            "_view_count": null,
            "_view_module_version": "1.5.0",
            "box_style": "",
            "layout": "IPY_MODEL_a5a47996d74c42abba614f3f8fff911e",
            "_model_module": "@jupyter-widgets/controls",
            "children": [
              "IPY_MODEL_92b7de287d214c4db88ccf6cb4dd69fc",
              "IPY_MODEL_ae6a12faad7b493a85258c0c2749404d"
            ]
          }
        },
        "a5a47996d74c42abba614f3f8fff911e": {
          "model_module": "@jupyter-widgets/base",
          "model_name": "LayoutModel",
          "state": {
            "_view_name": "LayoutView",
            "grid_template_rows": null,
            "right": null,
            "justify_content": null,
            "_view_module": "@jupyter-widgets/base",
            "overflow": null,
            "_model_module_version": "1.2.0",
            "_view_count": null,
            "flex_flow": null,
            "width": null,
            "min_width": null,
            "border": null,
            "align_items": null,
            "bottom": null,
            "_model_module": "@jupyter-widgets/base",
            "top": null,
            "grid_column": null,
            "overflow_y": null,
            "overflow_x": null,
            "grid_auto_flow": null,
            "grid_area": null,
            "grid_template_columns": null,
            "flex": null,
            "_model_name": "LayoutModel",
            "justify_items": null,
            "grid_row": null,
            "max_height": null,
            "align_content": null,
            "visibility": null,
            "align_self": null,
            "height": null,
            "min_height": null,
            "padding": null,
            "grid_auto_rows": null,
            "grid_gap": null,
            "max_width": null,
            "order": null,
            "_view_module_version": "1.2.0",
            "grid_template_areas": null,
            "object_position": null,
            "object_fit": null,
            "grid_auto_columns": null,
            "margin": null,
            "display": null,
            "left": null
          }
        },
        "92b7de287d214c4db88ccf6cb4dd69fc": {
          "model_module": "@jupyter-widgets/controls",
          "model_name": "FloatProgressModel",
          "state": {
            "_view_name": "ProgressView",
            "style": "IPY_MODEL_f8d3a9f08406440486156237154713c6",
            "_dom_classes": [],
            "description": "100%",
            "_model_name": "FloatProgressModel",
            "bar_style": "success",
            "max": 2,
            "_view_module": "@jupyter-widgets/controls",
            "_model_module_version": "1.5.0",
            "value": 2,
            "_view_count": null,
            "_view_module_version": "1.5.0",
            "orientation": "horizontal",
            "min": 0,
            "description_tooltip": null,
            "_model_module": "@jupyter-widgets/controls",
            "layout": "IPY_MODEL_bae05c4204f440b7a43c30407102523f"
          }
        },
        "ae6a12faad7b493a85258c0c2749404d": {
          "model_module": "@jupyter-widgets/controls",
          "model_name": "HTMLModel",
          "state": {
            "_view_name": "HTMLView",
            "style": "IPY_MODEL_437a9477955a4ec0a0134dfb704465ae",
            "_dom_classes": [],
            "description": "",
            "_model_name": "HTMLModel",
            "placeholder": "​",
            "_view_module": "@jupyter-widgets/controls",
            "_model_module_version": "1.5.0",
            "value": " 2/2 [00:58&lt;00:00, 29.20s/it]",
            "_view_count": null,
            "_view_module_version": "1.5.0",
            "description_tooltip": null,
            "_model_module": "@jupyter-widgets/controls",
            "layout": "IPY_MODEL_26cf15cc0b5144beaed6736f2813e01d"
          }
        },
        "f8d3a9f08406440486156237154713c6": {
          "model_module": "@jupyter-widgets/controls",
          "model_name": "ProgressStyleModel",
          "state": {
            "_view_name": "StyleView",
            "_model_name": "ProgressStyleModel",
            "description_width": "initial",
            "_view_module": "@jupyter-widgets/base",
            "_model_module_version": "1.5.0",
            "_view_count": null,
            "_view_module_version": "1.2.0",
            "bar_color": null,
            "_model_module": "@jupyter-widgets/controls"
          }
        },
        "bae05c4204f440b7a43c30407102523f": {
          "model_module": "@jupyter-widgets/base",
          "model_name": "LayoutModel",
          "state": {
            "_view_name": "LayoutView",
            "grid_template_rows": null,
            "right": null,
            "justify_content": null,
            "_view_module": "@jupyter-widgets/base",
            "overflow": null,
            "_model_module_version": "1.2.0",
            "_view_count": null,
            "flex_flow": null,
            "width": null,
            "min_width": null,
            "border": null,
            "align_items": null,
            "bottom": null,
            "_model_module": "@jupyter-widgets/base",
            "top": null,
            "grid_column": null,
            "overflow_y": null,
            "overflow_x": null,
            "grid_auto_flow": null,
            "grid_area": null,
            "grid_template_columns": null,
            "flex": null,
            "_model_name": "LayoutModel",
            "justify_items": null,
            "grid_row": null,
            "max_height": null,
            "align_content": null,
            "visibility": null,
            "align_self": null,
            "height": null,
            "min_height": null,
            "padding": null,
            "grid_auto_rows": null,
            "grid_gap": null,
            "max_width": null,
            "order": null,
            "_view_module_version": "1.2.0",
            "grid_template_areas": null,
            "object_position": null,
            "object_fit": null,
            "grid_auto_columns": null,
            "margin": null,
            "display": null,
            "left": null
          }
        },
        "437a9477955a4ec0a0134dfb704465ae": {
          "model_module": "@jupyter-widgets/controls",
          "model_name": "DescriptionStyleModel",
          "state": {
            "_view_name": "StyleView",
            "_model_name": "DescriptionStyleModel",
            "description_width": "",
            "_view_module": "@jupyter-widgets/base",
            "_model_module_version": "1.5.0",
            "_view_count": null,
            "_view_module_version": "1.2.0",
            "_model_module": "@jupyter-widgets/controls"
          }
        },
        "26cf15cc0b5144beaed6736f2813e01d": {
          "model_module": "@jupyter-widgets/base",
          "model_name": "LayoutModel",
          "state": {
            "_view_name": "LayoutView",
            "grid_template_rows": null,
            "right": null,
            "justify_content": null,
            "_view_module": "@jupyter-widgets/base",
            "overflow": null,
            "_model_module_version": "1.2.0",
            "_view_count": null,
            "flex_flow": null,
            "width": null,
            "min_width": null,
            "border": null,
            "align_items": null,
            "bottom": null,
            "_model_module": "@jupyter-widgets/base",
            "top": null,
            "grid_column": null,
            "overflow_y": null,
            "overflow_x": null,
            "grid_auto_flow": null,
            "grid_area": null,
            "grid_template_columns": null,
            "flex": null,
            "_model_name": "LayoutModel",
            "justify_items": null,
            "grid_row": null,
            "max_height": null,
            "align_content": null,
            "visibility": null,
            "align_self": null,
            "height": null,
            "min_height": null,
            "padding": null,
            "grid_auto_rows": null,
            "grid_gap": null,
            "max_width": null,
            "order": null,
            "_view_module_version": "1.2.0",
            "grid_template_areas": null,
            "object_position": null,
            "object_fit": null,
            "grid_auto_columns": null,
            "margin": null,
            "display": null,
            "left": null
          }
        },
        "7696b040f4b145468909baf0ab5dbb42": {
          "model_module": "@jupyter-widgets/controls",
          "model_name": "HBoxModel",
          "state": {
            "_view_name": "HBoxView",
            "_dom_classes": [],
            "_model_name": "HBoxModel",
            "_view_module": "@jupyter-widgets/controls",
            "_model_module_version": "1.5.0",
            "_view_count": null,
            "_view_module_version": "1.5.0",
            "box_style": "",
            "layout": "IPY_MODEL_79a817d0ac514aa18ca53508faf42304",
            "_model_module": "@jupyter-widgets/controls",
            "children": [
              "IPY_MODEL_d7178655f60840ee98ad73c2149298f5",
              "IPY_MODEL_e5ef35335c8241f98298d98244332143"
            ]
          }
        },
        "79a817d0ac514aa18ca53508faf42304": {
          "model_module": "@jupyter-widgets/base",
          "model_name": "LayoutModel",
          "state": {
            "_view_name": "LayoutView",
            "grid_template_rows": null,
            "right": null,
            "justify_content": null,
            "_view_module": "@jupyter-widgets/base",
            "overflow": null,
            "_model_module_version": "1.2.0",
            "_view_count": null,
            "flex_flow": null,
            "width": null,
            "min_width": null,
            "border": null,
            "align_items": null,
            "bottom": null,
            "_model_module": "@jupyter-widgets/base",
            "top": null,
            "grid_column": null,
            "overflow_y": null,
            "overflow_x": null,
            "grid_auto_flow": null,
            "grid_area": null,
            "grid_template_columns": null,
            "flex": null,
            "_model_name": "LayoutModel",
            "justify_items": null,
            "grid_row": null,
            "max_height": null,
            "align_content": null,
            "visibility": null,
            "align_self": null,
            "height": null,
            "min_height": null,
            "padding": null,
            "grid_auto_rows": null,
            "grid_gap": null,
            "max_width": null,
            "order": null,
            "_view_module_version": "1.2.0",
            "grid_template_areas": null,
            "object_position": null,
            "object_fit": null,
            "grid_auto_columns": null,
            "margin": null,
            "display": null,
            "left": null
          }
        },
        "d7178655f60840ee98ad73c2149298f5": {
          "model_module": "@jupyter-widgets/controls",
          "model_name": "FloatProgressModel",
          "state": {
            "_view_name": "ProgressView",
            "style": "IPY_MODEL_ea93d173d08a416e8970302a680eda00",
            "_dom_classes": [],
            "description": "",
            "_model_name": "FloatProgressModel",
            "bar_style": "success",
            "max": 9740,
            "_view_module": "@jupyter-widgets/controls",
            "_model_module_version": "1.5.0",
            "value": 9740,
            "_view_count": null,
            "_view_module_version": "1.5.0",
            "orientation": "horizontal",
            "min": 0,
            "description_tooltip": null,
            "_model_module": "@jupyter-widgets/controls",
            "layout": "IPY_MODEL_62824548e6fb4f0a90a8c62b725a849e"
          }
        },
        "e5ef35335c8241f98298d98244332143": {
          "model_module": "@jupyter-widgets/controls",
          "model_name": "HTMLModel",
          "state": {
            "_view_name": "HTMLView",
            "style": "IPY_MODEL_c825fd66701b42c08c4af7a3a6d3852c",
            "_dom_classes": [],
            "description": "",
            "_model_name": "HTMLModel",
            "placeholder": "​",
            "_view_module": "@jupyter-widgets/controls",
            "_model_module_version": "1.5.0",
            "value": " 9761/? [1:22:21&lt;00:00,  1.98it/s, tasks=received]",
            "_view_count": null,
            "_view_module_version": "1.5.0",
            "description_tooltip": null,
            "_model_module": "@jupyter-widgets/controls",
            "layout": "IPY_MODEL_3bdf8ec7a3fe4cc68d64dee17df63a6c"
          }
        },
        "ea93d173d08a416e8970302a680eda00": {
          "model_module": "@jupyter-widgets/controls",
          "model_name": "ProgressStyleModel",
          "state": {
            "_view_name": "StyleView",
            "_model_name": "ProgressStyleModel",
            "description_width": "initial",
            "_view_module": "@jupyter-widgets/base",
            "_model_module_version": "1.5.0",
            "_view_count": null,
            "_view_module_version": "1.2.0",
            "bar_color": null,
            "_model_module": "@jupyter-widgets/controls"
          }
        },
        "62824548e6fb4f0a90a8c62b725a849e": {
          "model_module": "@jupyter-widgets/base",
          "model_name": "LayoutModel",
          "state": {
            "_view_name": "LayoutView",
            "grid_template_rows": null,
            "right": null,
            "justify_content": null,
            "_view_module": "@jupyter-widgets/base",
            "overflow": null,
            "_model_module_version": "1.2.0",
            "_view_count": null,
            "flex_flow": null,
            "width": null,
            "min_width": null,
            "border": null,
            "align_items": null,
            "bottom": null,
            "_model_module": "@jupyter-widgets/base",
            "top": null,
            "grid_column": null,
            "overflow_y": null,
            "overflow_x": null,
            "grid_auto_flow": null,
            "grid_area": null,
            "grid_template_columns": null,
            "flex": null,
            "_model_name": "LayoutModel",
            "justify_items": null,
            "grid_row": null,
            "max_height": null,
            "align_content": null,
            "visibility": null,
            "align_self": null,
            "height": null,
            "min_height": null,
            "padding": null,
            "grid_auto_rows": null,
            "grid_gap": null,
            "max_width": null,
            "order": null,
            "_view_module_version": "1.2.0",
            "grid_template_areas": null,
            "object_position": null,
            "object_fit": null,
            "grid_auto_columns": null,
            "margin": null,
            "display": null,
            "left": null
          }
        },
        "c825fd66701b42c08c4af7a3a6d3852c": {
          "model_module": "@jupyter-widgets/controls",
          "model_name": "DescriptionStyleModel",
          "state": {
            "_view_name": "StyleView",
            "_model_name": "DescriptionStyleModel",
            "description_width": "",
            "_view_module": "@jupyter-widgets/base",
            "_model_module_version": "1.5.0",
            "_view_count": null,
            "_view_module_version": "1.2.0",
            "_model_module": "@jupyter-widgets/controls"
          }
        },
        "3bdf8ec7a3fe4cc68d64dee17df63a6c": {
          "model_module": "@jupyter-widgets/base",
          "model_name": "LayoutModel",
          "state": {
            "_view_name": "LayoutView",
            "grid_template_rows": null,
            "right": null,
            "justify_content": null,
            "_view_module": "@jupyter-widgets/base",
            "overflow": null,
            "_model_module_version": "1.2.0",
            "_view_count": null,
            "flex_flow": null,
            "width": null,
            "min_width": null,
            "border": null,
            "align_items": null,
            "bottom": null,
            "_model_module": "@jupyter-widgets/base",
            "top": null,
            "grid_column": null,
            "overflow_y": null,
            "overflow_x": null,
            "grid_auto_flow": null,
            "grid_area": null,
            "grid_template_columns": null,
            "flex": null,
            "_model_name": "LayoutModel",
            "justify_items": null,
            "grid_row": null,
            "max_height": null,
            "align_content": null,
            "visibility": null,
            "align_self": null,
            "height": null,
            "min_height": null,
            "padding": null,
            "grid_auto_rows": null,
            "grid_gap": null,
            "max_width": null,
            "order": null,
            "_view_module_version": "1.2.0",
            "grid_template_areas": null,
            "object_position": null,
            "object_fit": null,
            "grid_auto_columns": null,
            "margin": null,
            "display": null,
            "left": null
          }
        }
      }
    }
  },
  "cells": [
    {
      "cell_type": "code",
      "metadata": {
        "id": "gQMXkjN39zPI"
      },
      "source": [
        "# ostatnie piwo: https://www.polskikraft.pl/piwo/9740\n",
        "# ostatni browar: https://www.polskikraft.pl/browar/411\n",
        "# ostatni user: https://www.polskikraft.pl/profil/28348"
      ],
      "execution_count": null,
      "outputs": []
    },
    {
      "cell_type": "code",
      "metadata": {
        "id": "FkMvbvZz_P4T"
      },
      "source": [
        "import os\n",
        "dumpdir = '/content/drive/MyDrive/datasets/PolskiKraft'"
      ],
      "execution_count": null,
      "outputs": []
    },
    {
      "cell_type": "code",
      "metadata": {
        "id": "BV01Ef1CLunp"
      },
      "source": [
        "import pandas as pd\n",
        "from tqdm.auto import tqdm"
      ],
      "execution_count": null,
      "outputs": []
    },
    {
      "cell_type": "markdown",
      "metadata": {
        "id": "XWJSMNXut7s2"
      },
      "source": [
        "# scraping"
      ]
    },
    {
      "cell_type": "code",
      "metadata": {
        "id": "wlp4JW5Q_pJn"
      },
      "source": [
        "!mkdir browary\n",
        "!mkdir piwa"
      ],
      "execution_count": null,
      "outputs": []
    },
    {
      "cell_type": "markdown",
      "metadata": {
        "id": "XbNvxRRGuBiL"
      },
      "source": [
        "## breweries"
      ]
    },
    {
      "cell_type": "code",
      "metadata": {
        "id": "GdamaxfuiZ9K"
      },
      "source": [
        "for i in tqdm(range(1, 413)):\n",
        "    ! wget --quiet https://www.polskikraft.pl/browar/{i} -O browary/{i}.html"
      ],
      "execution_count": null,
      "outputs": []
    },
    {
      "cell_type": "code",
      "metadata": {
        "colab": {
          "base_uri": "https://localhost:8080/"
        },
        "id": "mvglfgjMjjog",
        "outputId": "27d7324c-3500-45ae-dd90-9cf604d047f2"
      },
      "source": [
        "!zip -q -r browary.zip browary\n",
        "!cp browary.zip {dumpdir}\n",
        "!ls -lh {dumpdir}"
      ],
      "execution_count": null,
      "outputs": [
        {
          "output_type": "stream",
          "text": [
            "total 2.6M\n",
            "-rw------- 1 root root 2.6M Apr 10 02:18 browary.zip\n"
          ],
          "name": "stdout"
        }
      ]
    },
    {
      "cell_type": "markdown",
      "metadata": {
        "id": "7ZrP_j4QuF4s"
      },
      "source": [
        "## beers"
      ]
    },
    {
      "cell_type": "code",
      "metadata": {
        "colab": {
          "base_uri": "https://localhost:8080/",
          "height": 66,
          "referenced_widgets": [
            "aff3f2b7a8bf4ca9ae7d65c0f560c1a4",
            "a5a47996d74c42abba614f3f8fff911e",
            "92b7de287d214c4db88ccf6cb4dd69fc",
            "ae6a12faad7b493a85258c0c2749404d",
            "f8d3a9f08406440486156237154713c6",
            "bae05c4204f440b7a43c30407102523f",
            "437a9477955a4ec0a0134dfb704465ae",
            "26cf15cc0b5144beaed6736f2813e01d"
          ]
        },
        "id": "rxmv57jOjB9R",
        "outputId": "270c62cd-9545-48a3-9944-2273a5b1cd83"
      },
      "source": [
        "# for i in tqdm(range(1, 9740)):\n",
        "#     ! wget --quiet https://www.polskikraft.pl/piwo/{i} -O piwa/{i}.html\n",
        "\n",
        "# this would take ages (8-9h), lets go somewhat parallel"
      ],
      "execution_count": null,
      "outputs": [
        {
          "output_type": "display_data",
          "data": {
            "application/vnd.jupyter.widget-view+json": {
              "model_id": "aff3f2b7a8bf4ca9ae7d65c0f560c1a4",
              "version_minor": 0,
              "version_major": 2
            },
            "text/plain": [
              "HBox(children=(FloatProgress(value=0.0, max=2.0), HTML(value='')))"
            ]
          },
          "metadata": {
            "tags": []
          }
        },
        {
          "output_type": "stream",
          "text": [
            "\n"
          ],
          "name": "stdout"
        }
      ]
    },
    {
      "cell_type": "code",
      "metadata": {
        "colab": {
          "base_uri": "https://localhost:8080/",
          "height": 66,
          "referenced_widgets": [
            "7696b040f4b145468909baf0ab5dbb42",
            "79a817d0ac514aa18ca53508faf42304",
            "d7178655f60840ee98ad73c2149298f5",
            "e5ef35335c8241f98298d98244332143",
            "ea93d173d08a416e8970302a680eda00",
            "62824548e6fb4f0a90a8c62b725a849e",
            "c825fd66701b42c08c4af7a3a6d3852c",
            "3bdf8ec7a3fe4cc68d64dee17df63a6c"
          ]
        },
        "id": "Qq6dnc2Vmwj3",
        "outputId": "45790835-954c-4a2d-9cf2-c29944403259"
      },
      "source": [
        "import subprocess\n",
        "MAX = 9740\n",
        "\n",
        "i = 511\n",
        "pbar = tqdm(total=MAX)\n",
        "pbar.update(i)\n",
        "while True:\n",
        "    N = 50\n",
        "    ls_output = [subprocess.Popen([\n",
        "        \"wget\", \"--quiet\",\n",
        "        f\"https://www.polskikraft.pl/piwo/{j}\",\n",
        "        \"-O\", f\"piwa/{j}.html\"\n",
        "    ]) for j in range(i, i+N)]\n",
        "    pbar.set_postfix({'tasks': 'queued'})\n",
        "    [x.communicate() for x in ls_output] # async wait\n",
        "    pbar.set_postfix({'tasks': 'received'})\n",
        "    i += N\n",
        "    pbar.update(N)\n",
        "    if i > MAX:\n",
        "        break\n",
        "pbar.close()\n",
        "# now it will take about 1.5h, seems fine.\n",
        "# This should finish by 6:30, 10th of april.\n",
        "# Lets hope no one uses their app so early on Saturdays."
      ],
      "execution_count": null,
      "outputs": [
        {
          "output_type": "display_data",
          "data": {
            "application/vnd.jupyter.widget-view+json": {
              "model_id": "7696b040f4b145468909baf0ab5dbb42",
              "version_minor": 0,
              "version_major": 2
            },
            "text/plain": [
              "HBox(children=(FloatProgress(value=0.0, max=9740.0), HTML(value='')))"
            ]
          },
          "metadata": {
            "tags": []
          }
        },
        {
          "output_type": "stream",
          "text": [
            "\n"
          ],
          "name": "stdout"
        }
      ]
    },
    {
      "cell_type": "code",
      "metadata": {
        "colab": {
          "base_uri": "https://localhost:8080/"
        },
        "id": "xtc5rpy3oLNe",
        "outputId": "1b5c2987-cdc5-407d-c29b-ed1bbf44d0f1"
      },
      "source": [
        "!ls -lth piwa | wc -l"
      ],
      "execution_count": null,
      "outputs": [
        {
          "output_type": "stream",
          "text": [
            "9760\n"
          ],
          "name": "stdout"
        }
      ]
    },
    {
      "cell_type": "code",
      "metadata": {
        "colab": {
          "base_uri": "https://localhost:8080/"
        },
        "id": "7ndmg2HAk3ZT",
        "outputId": "092b4740-806f-4423-fa11-d5090e1219ae"
      },
      "source": [
        "!zip -q -r piwa.zip piwa\n",
        "!cp piwa.zip {dumpdir}\n",
        "!ls -lh {dumpdir}"
      ],
      "execution_count": null,
      "outputs": [
        {
          "output_type": "stream",
          "text": [
            "total 283M\n",
            "-rw------- 1 root root  13K Apr 10 14:29 beer_network.csv\n",
            "-rw------- 1 root root 2.7K Apr 10 14:29 beers_metadata.csv\n",
            "-rw------- 1 root root 2.6M Apr 10 02:18 browary.zip\n",
            "-rw------- 1 root root 280M Apr 10 15:07 piwa.zip\n",
            "-rw------- 1 root root 676K Apr 10 14:29 ratings.csv\n"
          ],
          "name": "stdout"
        }
      ]
    },
    {
      "cell_type": "code",
      "metadata": {
        "id": "pSjSCT3Csdzt"
      },
      "source": [
        "# for i in tqdm(range(1, 9740+1)):\n",
        "#     if not os.path.exists(f'piwa/{i}.html'):\n",
        "#         !wget --quiet https://www.polskikraft.pl/piwo/{i} -O piwa/{i}.html\n",
        "\n",
        "# for i in tqdm(range(9740+1 9900)):\n",
        "#     if os.path.exists(f'piwa/{i}.html'):\n",
        "#         !rm piwa/{i}.html"
      ],
      "execution_count": null,
      "outputs": []
    },
    {
      "cell_type": "markdown",
      "metadata": {
        "id": "y9CNS_gdSbwY"
      },
      "source": [
        "In theory the data in user htmls is redundant to what we already have\n",
        "there should be no need to scrap the user profiles.\n",
        "\n",
        "It would be a huge burden on the PolskiBrowar.pl servers to \n",
        "handle 20k+ of our requests downloading user profiles\n",
        "in order not to disrupt their service (it would take at least 3h, \n",
        "in the worst case 23h) I do not even implement \n",
        "the user-data extracting code.\n",
        "At least for now, beware."
      ]
    }
  ]
}